{
 "cells": [
  {
   "cell_type": "code",
   "execution_count": 1,
   "id": "485c17d4",
   "metadata": {},
   "outputs": [],
   "source": [
    "#load necessary libraries\n",
    "import pandas as pd\n",
    "import numpy as np\n",
    "import matplotlib.pyplot as plt\n",
    "%matplotlib inline\n",
    "import seaborn as sns"
   ]
  },
  {
   "cell_type": "markdown",
   "id": "2f8fd67d",
   "metadata": {},
   "source": [
    "## Data Wrangling\n",
    "\n",
    "\n",
    "### Gathering"
   ]
  },
  {
   "cell_type": "code",
   "execution_count": 2,
   "id": "72dde40c",
   "metadata": {},
   "outputs": [
    {
     "data": {
      "text/html": [
       "<div>\n",
       "<style scoped>\n",
       "    .dataframe tbody tr th:only-of-type {\n",
       "        vertical-align: middle;\n",
       "    }\n",
       "\n",
       "    .dataframe tbody tr th {\n",
       "        vertical-align: top;\n",
       "    }\n",
       "\n",
       "    .dataframe thead th {\n",
       "        text-align: right;\n",
       "    }\n",
       "</style>\n",
       "<table border=\"1\" class=\"dataframe\">\n",
       "  <thead>\n",
       "    <tr style=\"text-align: right;\">\n",
       "      <th></th>\n",
       "      <th>start_time</th>\n",
       "      <th>start_lat</th>\n",
       "      <th>start_lng</th>\n",
       "      <th>end_lat</th>\n",
       "      <th>end_lng</th>\n",
       "      <th>ride_value</th>\n",
       "    </tr>\n",
       "  </thead>\n",
       "  <tbody>\n",
       "    <tr>\n",
       "      <th>0</th>\n",
       "      <td>2022-03-06 15:02:39.329452000</td>\n",
       "      <td>59.407910</td>\n",
       "      <td>24.689836</td>\n",
       "      <td>59.513027</td>\n",
       "      <td>24.831630</td>\n",
       "      <td>3.51825</td>\n",
       "    </tr>\n",
       "    <tr>\n",
       "      <th>1</th>\n",
       "      <td>2022-03-10 11:15:55.177526000</td>\n",
       "      <td>59.441650</td>\n",
       "      <td>24.762712</td>\n",
       "      <td>59.426450</td>\n",
       "      <td>24.783076</td>\n",
       "      <td>0.50750</td>\n",
       "    </tr>\n",
       "    <tr>\n",
       "      <th>2</th>\n",
       "      <td>2022-03-06 14:23:33.893257000</td>\n",
       "      <td>59.435404</td>\n",
       "      <td>24.749795</td>\n",
       "      <td>59.431901</td>\n",
       "      <td>24.761588</td>\n",
       "      <td>0.19025</td>\n",
       "    </tr>\n",
       "    <tr>\n",
       "      <th>3</th>\n",
       "      <td>2022-03-03 09:11:59.104192000</td>\n",
       "      <td>59.406920</td>\n",
       "      <td>24.659006</td>\n",
       "      <td>59.381093</td>\n",
       "      <td>24.641652</td>\n",
       "      <td>0.75600</td>\n",
       "    </tr>\n",
       "    <tr>\n",
       "      <th>4</th>\n",
       "      <td>2022-03-06 00:13:01.290346000</td>\n",
       "      <td>59.434940</td>\n",
       "      <td>24.753641</td>\n",
       "      <td>59.489203</td>\n",
       "      <td>24.876170</td>\n",
       "      <td>2.27100</td>\n",
       "    </tr>\n",
       "  </tbody>\n",
       "</table>\n",
       "</div>"
      ],
      "text/plain": [
       "                      start_time  start_lat  start_lng    end_lat    end_lng  \\\n",
       "0  2022-03-06 15:02:39.329452000  59.407910  24.689836  59.513027  24.831630   \n",
       "1  2022-03-10 11:15:55.177526000  59.441650  24.762712  59.426450  24.783076   \n",
       "2  2022-03-06 14:23:33.893257000  59.435404  24.749795  59.431901  24.761588   \n",
       "3  2022-03-03 09:11:59.104192000  59.406920  24.659006  59.381093  24.641652   \n",
       "4  2022-03-06 00:13:01.290346000  59.434940  24.753641  59.489203  24.876170   \n",
       "\n",
       "   ride_value  \n",
       "0     3.51825  \n",
       "1     0.50750  \n",
       "2     0.19025  \n",
       "3     0.75600  \n",
       "4     2.27100  "
      ]
     },
     "execution_count": 2,
     "metadata": {},
     "output_type": "execute_result"
    }
   ],
   "source": [
    "#load the dataset using pandas\n",
    "df = pd.read_csv('robotex5.csv')\n",
    "df.head()"
   ]
  },
  {
   "cell_type": "markdown",
   "id": "d85eca15",
   "metadata": {},
   "source": [
    "## Data Assessment"
   ]
  },
  {
   "cell_type": "code",
   "execution_count": 3,
   "id": "0f275f0d",
   "metadata": {},
   "outputs": [
    {
     "data": {
      "text/plain": [
       "(627210, 6)"
      ]
     },
     "execution_count": 3,
     "metadata": {},
     "output_type": "execute_result"
    }
   ],
   "source": [
    "#explore the dataset\n",
    "#check the dimension\n",
    "df.shape"
   ]
  },
  {
   "cell_type": "code",
   "execution_count": 4,
   "id": "72ee1fe5",
   "metadata": {},
   "outputs": [
    {
     "name": "stdout",
     "output_type": "stream",
     "text": [
      "<class 'pandas.core.frame.DataFrame'>\n",
      "RangeIndex: 627210 entries, 0 to 627209\n",
      "Data columns (total 6 columns):\n",
      " #   Column      Non-Null Count   Dtype  \n",
      "---  ------      --------------   -----  \n",
      " 0   start_time  627210 non-null  object \n",
      " 1   start_lat   627210 non-null  float64\n",
      " 2   start_lng   627210 non-null  float64\n",
      " 3   end_lat     627210 non-null  float64\n",
      " 4   end_lng     627210 non-null  float64\n",
      " 5   ride_value  627210 non-null  float64\n",
      "dtypes: float64(5), object(1)\n",
      "memory usage: 28.7+ MB\n"
     ]
    }
   ],
   "source": [
    "#check the summary\n",
    "df.info()"
   ]
  },
  {
   "cell_type": "code",
   "execution_count": 5,
   "id": "7e468aca",
   "metadata": {},
   "outputs": [
    {
     "data": {
      "text/html": [
       "<div>\n",
       "<style scoped>\n",
       "    .dataframe tbody tr th:only-of-type {\n",
       "        vertical-align: middle;\n",
       "    }\n",
       "\n",
       "    .dataframe tbody tr th {\n",
       "        vertical-align: top;\n",
       "    }\n",
       "\n",
       "    .dataframe thead th {\n",
       "        text-align: right;\n",
       "    }\n",
       "</style>\n",
       "<table border=\"1\" class=\"dataframe\">\n",
       "  <thead>\n",
       "    <tr style=\"text-align: right;\">\n",
       "      <th></th>\n",
       "      <th>start_lat</th>\n",
       "      <th>start_lng</th>\n",
       "      <th>end_lat</th>\n",
       "      <th>end_lng</th>\n",
       "      <th>ride_value</th>\n",
       "    </tr>\n",
       "  </thead>\n",
       "  <tbody>\n",
       "    <tr>\n",
       "      <th>count</th>\n",
       "      <td>627210.000000</td>\n",
       "      <td>627210.000000</td>\n",
       "      <td>627210.000000</td>\n",
       "      <td>627210.000000</td>\n",
       "      <td>627210.000000</td>\n",
       "    </tr>\n",
       "    <tr>\n",
       "      <th>mean</th>\n",
       "      <td>59.428682</td>\n",
       "      <td>24.743468</td>\n",
       "      <td>59.397797</td>\n",
       "      <td>24.724847</td>\n",
       "      <td>2.261384</td>\n",
       "    </tr>\n",
       "    <tr>\n",
       "      <th>std</th>\n",
       "      <td>0.021764</td>\n",
       "      <td>0.056872</td>\n",
       "      <td>1.392755</td>\n",
       "      <td>1.650709</td>\n",
       "      <td>44.889892</td>\n",
       "    </tr>\n",
       "    <tr>\n",
       "      <th>min</th>\n",
       "      <td>59.321557</td>\n",
       "      <td>24.505199</td>\n",
       "      <td>-37.819979</td>\n",
       "      <td>-122.453962</td>\n",
       "      <td>0.107628</td>\n",
       "    </tr>\n",
       "    <tr>\n",
       "      <th>25%</th>\n",
       "      <td>59.418803</td>\n",
       "      <td>24.713140</td>\n",
       "      <td>59.415215</td>\n",
       "      <td>24.707919</td>\n",
       "      <td>0.545250</td>\n",
       "    </tr>\n",
       "    <tr>\n",
       "      <th>50%</th>\n",
       "      <td>59.432069</td>\n",
       "      <td>24.744674</td>\n",
       "      <td>59.430697</td>\n",
       "      <td>24.744335</td>\n",
       "      <td>1.059000</td>\n",
       "    </tr>\n",
       "    <tr>\n",
       "      <th>75%</th>\n",
       "      <td>59.439024</td>\n",
       "      <td>24.768115</td>\n",
       "      <td>59.439262</td>\n",
       "      <td>24.773924</td>\n",
       "      <td>1.712000</td>\n",
       "    </tr>\n",
       "    <tr>\n",
       "      <th>max</th>\n",
       "      <td>59.566998</td>\n",
       "      <td>24.973743</td>\n",
       "      <td>61.552744</td>\n",
       "      <td>144.966110</td>\n",
       "      <td>3172.701000</td>\n",
       "    </tr>\n",
       "  </tbody>\n",
       "</table>\n",
       "</div>"
      ],
      "text/plain": [
       "           start_lat      start_lng        end_lat        end_lng  \\\n",
       "count  627210.000000  627210.000000  627210.000000  627210.000000   \n",
       "mean       59.428682      24.743468      59.397797      24.724847   \n",
       "std         0.021764       0.056872       1.392755       1.650709   \n",
       "min        59.321557      24.505199     -37.819979    -122.453962   \n",
       "25%        59.418803      24.713140      59.415215      24.707919   \n",
       "50%        59.432069      24.744674      59.430697      24.744335   \n",
       "75%        59.439024      24.768115      59.439262      24.773924   \n",
       "max        59.566998      24.973743      61.552744     144.966110   \n",
       "\n",
       "          ride_value  \n",
       "count  627210.000000  \n",
       "mean        2.261384  \n",
       "std        44.889892  \n",
       "min         0.107628  \n",
       "25%         0.545250  \n",
       "50%         1.059000  \n",
       "75%         1.712000  \n",
       "max      3172.701000  "
      ]
     },
     "execution_count": 5,
     "metadata": {},
     "output_type": "execute_result"
    }
   ],
   "source": [
    "#check the summary statistics\n",
    "df.describe()"
   ]
  },
  {
   "cell_type": "code",
   "execution_count": 6,
   "id": "4b0330f5",
   "metadata": {},
   "outputs": [
    {
     "data": {
      "text/plain": [
       "start_time    0\n",
       "start_lat     0\n",
       "start_lng     0\n",
       "end_lat       0\n",
       "end_lng       0\n",
       "ride_value    0\n",
       "dtype: int64"
      ]
     },
     "execution_count": 6,
     "metadata": {},
     "output_type": "execute_result"
    }
   ],
   "source": [
    "#check for null values\n",
    "df.isnull().sum()"
   ]
  },
  {
   "cell_type": "code",
   "execution_count": 7,
   "id": "017f2b37",
   "metadata": {},
   "outputs": [
    {
     "data": {
      "text/plain": [
       "191987    3172.701000\n",
       "142420    2861.653025\n",
       "392267    2861.651750\n",
       "362976    2861.651750\n",
       "475443    2861.573500\n",
       "217253    2861.573500\n",
       "617595    2861.573500\n",
       "213786    2861.573500\n",
       "494555    2861.573500\n",
       "334167    2860.572750\n",
       "125747    2860.572750\n",
       "269704    2860.572750\n",
       "590387    2860.572750\n",
       "153058    2859.863250\n",
       "475859    2859.863250\n",
       "549705    2859.863250\n",
       "407151    2859.863250\n",
       "596018    2859.863250\n",
       "606773    2859.858680\n",
       "270832    2859.665816\n",
       "219101    2859.651500\n",
       "518365    2859.639250\n",
       "58839     2859.603250\n",
       "172472    2859.515250\n",
       "199076    2859.456250\n",
       "458097    2859.431250\n",
       "128906    2859.431250\n",
       "288786    2859.403500\n",
       "505370    2859.379000\n",
       "152861    2859.379000\n",
       "Name: ride_value, dtype: float64"
      ]
     },
     "execution_count": 7,
     "metadata": {},
     "output_type": "execute_result"
    }
   ],
   "source": [
    "#inspect the ride value column\n",
    "df.ride_value.sort_values(ascending=False).head(30)"
   ]
  },
  {
   "cell_type": "markdown",
   "id": "c8343f04",
   "metadata": {},
   "source": [
    "#### Insights\n",
    "\n",
    "There are no null values, the data types are correct except for the start time\n",
    "\n",
    "\n",
    "\n",
    "#### Corrections\n",
    "- Change the data type of Start time to datetimeindex \n",
    "- Change the start time to the index\n",
    "- Get the distance between both locations"
   ]
  },
  {
   "cell_type": "markdown",
   "id": "6d9ca0b9",
   "metadata": {},
   "source": [
    "## Cleaning"
   ]
  },
  {
   "cell_type": "code",
   "execution_count": 8,
   "id": "c78fc062",
   "metadata": {},
   "outputs": [],
   "source": [
    "#change the datatype of start time\n",
    "df['start_time'] = pd.to_datetime(df['start_time'])"
   ]
  },
  {
   "cell_type": "code",
   "execution_count": 9,
   "id": "19ade17a",
   "metadata": {},
   "outputs": [
    {
     "data": {
      "text/plain": [
       "start_time    datetime64[ns]\n",
       "start_lat            float64\n",
       "start_lng            float64\n",
       "end_lat              float64\n",
       "end_lng              float64\n",
       "ride_value           float64\n",
       "dtype: object"
      ]
     },
     "execution_count": 9,
     "metadata": {},
     "output_type": "execute_result"
    }
   ],
   "source": [
    "#check for change\n",
    "df.dtypes"
   ]
  },
  {
   "cell_type": "code",
   "execution_count": 10,
   "id": "7bc76200",
   "metadata": {},
   "outputs": [
    {
     "data": {
      "text/html": [
       "<div>\n",
       "<style scoped>\n",
       "    .dataframe tbody tr th:only-of-type {\n",
       "        vertical-align: middle;\n",
       "    }\n",
       "\n",
       "    .dataframe tbody tr th {\n",
       "        vertical-align: top;\n",
       "    }\n",
       "\n",
       "    .dataframe thead th {\n",
       "        text-align: right;\n",
       "    }\n",
       "</style>\n",
       "<table border=\"1\" class=\"dataframe\">\n",
       "  <thead>\n",
       "    <tr style=\"text-align: right;\">\n",
       "      <th></th>\n",
       "      <th>start_time</th>\n",
       "      <th>start_lat</th>\n",
       "      <th>start_lng</th>\n",
       "      <th>end_lat</th>\n",
       "      <th>end_lng</th>\n",
       "      <th>ride_value</th>\n",
       "    </tr>\n",
       "  </thead>\n",
       "  <tbody>\n",
       "    <tr>\n",
       "      <th>0</th>\n",
       "      <td>2022-03-06 15:02:39.329452</td>\n",
       "      <td>59.407910</td>\n",
       "      <td>24.689836</td>\n",
       "      <td>59.513027</td>\n",
       "      <td>24.831630</td>\n",
       "      <td>3.51825</td>\n",
       "    </tr>\n",
       "    <tr>\n",
       "      <th>1</th>\n",
       "      <td>2022-03-10 11:15:55.177526</td>\n",
       "      <td>59.441650</td>\n",
       "      <td>24.762712</td>\n",
       "      <td>59.426450</td>\n",
       "      <td>24.783076</td>\n",
       "      <td>0.50750</td>\n",
       "    </tr>\n",
       "    <tr>\n",
       "      <th>2</th>\n",
       "      <td>2022-03-06 14:23:33.893257</td>\n",
       "      <td>59.435404</td>\n",
       "      <td>24.749795</td>\n",
       "      <td>59.431901</td>\n",
       "      <td>24.761588</td>\n",
       "      <td>0.19025</td>\n",
       "    </tr>\n",
       "    <tr>\n",
       "      <th>3</th>\n",
       "      <td>2022-03-03 09:11:59.104192</td>\n",
       "      <td>59.406920</td>\n",
       "      <td>24.659006</td>\n",
       "      <td>59.381093</td>\n",
       "      <td>24.641652</td>\n",
       "      <td>0.75600</td>\n",
       "    </tr>\n",
       "    <tr>\n",
       "      <th>4</th>\n",
       "      <td>2022-03-06 00:13:01.290346</td>\n",
       "      <td>59.434940</td>\n",
       "      <td>24.753641</td>\n",
       "      <td>59.489203</td>\n",
       "      <td>24.876170</td>\n",
       "      <td>2.27100</td>\n",
       "    </tr>\n",
       "  </tbody>\n",
       "</table>\n",
       "</div>"
      ],
      "text/plain": [
       "                  start_time  start_lat  start_lng    end_lat    end_lng  \\\n",
       "0 2022-03-06 15:02:39.329452  59.407910  24.689836  59.513027  24.831630   \n",
       "1 2022-03-10 11:15:55.177526  59.441650  24.762712  59.426450  24.783076   \n",
       "2 2022-03-06 14:23:33.893257  59.435404  24.749795  59.431901  24.761588   \n",
       "3 2022-03-03 09:11:59.104192  59.406920  24.659006  59.381093  24.641652   \n",
       "4 2022-03-06 00:13:01.290346  59.434940  24.753641  59.489203  24.876170   \n",
       "\n",
       "   ride_value  \n",
       "0     3.51825  \n",
       "1     0.50750  \n",
       "2     0.19025  \n",
       "3     0.75600  \n",
       "4     2.27100  "
      ]
     },
     "execution_count": 10,
     "metadata": {},
     "output_type": "execute_result"
    }
   ],
   "source": [
    "df.head()"
   ]
  },
  {
   "cell_type": "code",
   "execution_count": 11,
   "id": "b7302061",
   "metadata": {},
   "outputs": [],
   "source": [
    "#split start time into different dates and time\n",
    "df['year'] = df['start_time'].dt.year\n",
    "df['month'] = df['start_time'].dt.month\n",
    "df['day'] = df['start_time'].dt.day\n",
    "df['weekday'] = df['start_time'].dt.weekday"
   ]
  },
  {
   "cell_type": "code",
   "execution_count": 12,
   "id": "5d92c11a",
   "metadata": {},
   "outputs": [],
   "source": [
    "#change the start time to the index\n",
    "df.set_index('start_time', inplace=True)"
   ]
  },
  {
   "cell_type": "code",
   "execution_count": 13,
   "id": "b54eece5",
   "metadata": {},
   "outputs": [
    {
     "data": {
      "text/html": [
       "<div>\n",
       "<style scoped>\n",
       "    .dataframe tbody tr th:only-of-type {\n",
       "        vertical-align: middle;\n",
       "    }\n",
       "\n",
       "    .dataframe tbody tr th {\n",
       "        vertical-align: top;\n",
       "    }\n",
       "\n",
       "    .dataframe thead th {\n",
       "        text-align: right;\n",
       "    }\n",
       "</style>\n",
       "<table border=\"1\" class=\"dataframe\">\n",
       "  <thead>\n",
       "    <tr style=\"text-align: right;\">\n",
       "      <th></th>\n",
       "      <th>start_lat</th>\n",
       "      <th>start_lng</th>\n",
       "      <th>end_lat</th>\n",
       "      <th>end_lng</th>\n",
       "      <th>ride_value</th>\n",
       "      <th>year</th>\n",
       "      <th>month</th>\n",
       "      <th>day</th>\n",
       "      <th>weekday</th>\n",
       "    </tr>\n",
       "    <tr>\n",
       "      <th>start_time</th>\n",
       "      <th></th>\n",
       "      <th></th>\n",
       "      <th></th>\n",
       "      <th></th>\n",
       "      <th></th>\n",
       "      <th></th>\n",
       "      <th></th>\n",
       "      <th></th>\n",
       "      <th></th>\n",
       "    </tr>\n",
       "  </thead>\n",
       "  <tbody>\n",
       "    <tr>\n",
       "      <th>2022-03-06 15:02:39.329452</th>\n",
       "      <td>59.407910</td>\n",
       "      <td>24.689836</td>\n",
       "      <td>59.513027</td>\n",
       "      <td>24.831630</td>\n",
       "      <td>3.51825</td>\n",
       "      <td>2022</td>\n",
       "      <td>3</td>\n",
       "      <td>6</td>\n",
       "      <td>6</td>\n",
       "    </tr>\n",
       "    <tr>\n",
       "      <th>2022-03-10 11:15:55.177526</th>\n",
       "      <td>59.441650</td>\n",
       "      <td>24.762712</td>\n",
       "      <td>59.426450</td>\n",
       "      <td>24.783076</td>\n",
       "      <td>0.50750</td>\n",
       "      <td>2022</td>\n",
       "      <td>3</td>\n",
       "      <td>10</td>\n",
       "      <td>3</td>\n",
       "    </tr>\n",
       "    <tr>\n",
       "      <th>2022-03-06 14:23:33.893257</th>\n",
       "      <td>59.435404</td>\n",
       "      <td>24.749795</td>\n",
       "      <td>59.431901</td>\n",
       "      <td>24.761588</td>\n",
       "      <td>0.19025</td>\n",
       "      <td>2022</td>\n",
       "      <td>3</td>\n",
       "      <td>6</td>\n",
       "      <td>6</td>\n",
       "    </tr>\n",
       "    <tr>\n",
       "      <th>2022-03-03 09:11:59.104192</th>\n",
       "      <td>59.406920</td>\n",
       "      <td>24.659006</td>\n",
       "      <td>59.381093</td>\n",
       "      <td>24.641652</td>\n",
       "      <td>0.75600</td>\n",
       "      <td>2022</td>\n",
       "      <td>3</td>\n",
       "      <td>3</td>\n",
       "      <td>3</td>\n",
       "    </tr>\n",
       "    <tr>\n",
       "      <th>2022-03-06 00:13:01.290346</th>\n",
       "      <td>59.434940</td>\n",
       "      <td>24.753641</td>\n",
       "      <td>59.489203</td>\n",
       "      <td>24.876170</td>\n",
       "      <td>2.27100</td>\n",
       "      <td>2022</td>\n",
       "      <td>3</td>\n",
       "      <td>6</td>\n",
       "      <td>6</td>\n",
       "    </tr>\n",
       "  </tbody>\n",
       "</table>\n",
       "</div>"
      ],
      "text/plain": [
       "                            start_lat  start_lng    end_lat    end_lng  \\\n",
       "start_time                                                               \n",
       "2022-03-06 15:02:39.329452  59.407910  24.689836  59.513027  24.831630   \n",
       "2022-03-10 11:15:55.177526  59.441650  24.762712  59.426450  24.783076   \n",
       "2022-03-06 14:23:33.893257  59.435404  24.749795  59.431901  24.761588   \n",
       "2022-03-03 09:11:59.104192  59.406920  24.659006  59.381093  24.641652   \n",
       "2022-03-06 00:13:01.290346  59.434940  24.753641  59.489203  24.876170   \n",
       "\n",
       "                            ride_value  year  month  day  weekday  \n",
       "start_time                                                         \n",
       "2022-03-06 15:02:39.329452     3.51825  2022      3    6        6  \n",
       "2022-03-10 11:15:55.177526     0.50750  2022      3   10        3  \n",
       "2022-03-06 14:23:33.893257     0.19025  2022      3    6        6  \n",
       "2022-03-03 09:11:59.104192     0.75600  2022      3    3        3  \n",
       "2022-03-06 00:13:01.290346     2.27100  2022      3    6        6  "
      ]
     },
     "execution_count": 13,
     "metadata": {},
     "output_type": "execute_result"
    }
   ],
   "source": [
    "df.head()"
   ]
  },
  {
   "cell_type": "code",
   "execution_count": 14,
   "id": "784008cb",
   "metadata": {},
   "outputs": [],
   "source": [
    "#create a function to calculate the distance\n",
    "def dist_convert(lon1, lat1, lon2, lat2):\n",
    "    lon1, lat1, lon2, lat2 = map(np.radians, [lon1, lat1, lon2, lat2])\n",
    "\n",
    "    dlon = lon2 - lon1\n",
    "    dlat = lat2 - lat1\n",
    "\n",
    "    a = np.sin(dlat / 2.0) ** 2 + np.cos(lat1) * np.cos(lat2) * np.sin(dlon / 2.0) ** 2\n",
    "\n",
    "    c = 2 * np.arcsin(np.sqrt(a))\n",
    "    km = 6367 * c\n",
    "    return km"
   ]
  },
  {
   "cell_type": "code",
   "execution_count": 15,
   "id": "f5d93974",
   "metadata": {},
   "outputs": [
    {
     "data": {
      "text/html": [
       "<div>\n",
       "<style scoped>\n",
       "    .dataframe tbody tr th:only-of-type {\n",
       "        vertical-align: middle;\n",
       "    }\n",
       "\n",
       "    .dataframe tbody tr th {\n",
       "        vertical-align: top;\n",
       "    }\n",
       "\n",
       "    .dataframe thead th {\n",
       "        text-align: right;\n",
       "    }\n",
       "</style>\n",
       "<table border=\"1\" class=\"dataframe\">\n",
       "  <thead>\n",
       "    <tr style=\"text-align: right;\">\n",
       "      <th></th>\n",
       "      <th>start_lat</th>\n",
       "      <th>start_lng</th>\n",
       "      <th>end_lat</th>\n",
       "      <th>end_lng</th>\n",
       "      <th>ride_value</th>\n",
       "      <th>year</th>\n",
       "      <th>month</th>\n",
       "      <th>day</th>\n",
       "      <th>weekday</th>\n",
       "      <th>distance</th>\n",
       "    </tr>\n",
       "    <tr>\n",
       "      <th>start_time</th>\n",
       "      <th></th>\n",
       "      <th></th>\n",
       "      <th></th>\n",
       "      <th></th>\n",
       "      <th></th>\n",
       "      <th></th>\n",
       "      <th></th>\n",
       "      <th></th>\n",
       "      <th></th>\n",
       "      <th></th>\n",
       "    </tr>\n",
       "  </thead>\n",
       "  <tbody>\n",
       "    <tr>\n",
       "      <th>2022-03-06 15:02:39.329452</th>\n",
       "      <td>59.407910</td>\n",
       "      <td>24.689836</td>\n",
       "      <td>59.513027</td>\n",
       "      <td>24.831630</td>\n",
       "      <td>3.51825</td>\n",
       "      <td>2022</td>\n",
       "      <td>3</td>\n",
       "      <td>6</td>\n",
       "      <td>6</td>\n",
       "      <td>14.161756</td>\n",
       "    </tr>\n",
       "    <tr>\n",
       "      <th>2022-03-10 11:15:55.177526</th>\n",
       "      <td>59.441650</td>\n",
       "      <td>24.762712</td>\n",
       "      <td>59.426450</td>\n",
       "      <td>24.783076</td>\n",
       "      <td>0.50750</td>\n",
       "      <td>2022</td>\n",
       "      <td>3</td>\n",
       "      <td>10</td>\n",
       "      <td>3</td>\n",
       "      <td>2.043859</td>\n",
       "    </tr>\n",
       "    <tr>\n",
       "      <th>2022-03-06 14:23:33.893257</th>\n",
       "      <td>59.435404</td>\n",
       "      <td>24.749795</td>\n",
       "      <td>59.431901</td>\n",
       "      <td>24.761588</td>\n",
       "      <td>0.19025</td>\n",
       "      <td>2022</td>\n",
       "      <td>3</td>\n",
       "      <td>6</td>\n",
       "      <td>6</td>\n",
       "      <td>0.771782</td>\n",
       "    </tr>\n",
       "    <tr>\n",
       "      <th>2022-03-03 09:11:59.104192</th>\n",
       "      <td>59.406920</td>\n",
       "      <td>24.659006</td>\n",
       "      <td>59.381093</td>\n",
       "      <td>24.641652</td>\n",
       "      <td>0.75600</td>\n",
       "      <td>2022</td>\n",
       "      <td>3</td>\n",
       "      <td>3</td>\n",
       "      <td>3</td>\n",
       "      <td>3.033288</td>\n",
       "    </tr>\n",
       "    <tr>\n",
       "      <th>2022-03-06 00:13:01.290346</th>\n",
       "      <td>59.434940</td>\n",
       "      <td>24.753641</td>\n",
       "      <td>59.489203</td>\n",
       "      <td>24.876170</td>\n",
       "      <td>2.27100</td>\n",
       "      <td>2022</td>\n",
       "      <td>3</td>\n",
       "      <td>6</td>\n",
       "      <td>6</td>\n",
       "      <td>9.177383</td>\n",
       "    </tr>\n",
       "  </tbody>\n",
       "</table>\n",
       "</div>"
      ],
      "text/plain": [
       "                            start_lat  start_lng    end_lat    end_lng  \\\n",
       "start_time                                                               \n",
       "2022-03-06 15:02:39.329452  59.407910  24.689836  59.513027  24.831630   \n",
       "2022-03-10 11:15:55.177526  59.441650  24.762712  59.426450  24.783076   \n",
       "2022-03-06 14:23:33.893257  59.435404  24.749795  59.431901  24.761588   \n",
       "2022-03-03 09:11:59.104192  59.406920  24.659006  59.381093  24.641652   \n",
       "2022-03-06 00:13:01.290346  59.434940  24.753641  59.489203  24.876170   \n",
       "\n",
       "                            ride_value  year  month  day  weekday   distance  \n",
       "start_time                                                                    \n",
       "2022-03-06 15:02:39.329452     3.51825  2022      3    6        6  14.161756  \n",
       "2022-03-10 11:15:55.177526     0.50750  2022      3   10        3   2.043859  \n",
       "2022-03-06 14:23:33.893257     0.19025  2022      3    6        6   0.771782  \n",
       "2022-03-03 09:11:59.104192     0.75600  2022      3    3        3   3.033288  \n",
       "2022-03-06 00:13:01.290346     2.27100  2022      3    6        6   9.177383  "
      ]
     },
     "execution_count": 15,
     "metadata": {},
     "output_type": "execute_result"
    }
   ],
   "source": [
    "#create the distance column and add it to the main dataframe\n",
    "df['distance'] = dist_convert(df['start_lng'], df['start_lat'], df['end_lng'], df['end_lat'])\n",
    "df.head()"
   ]
  },
  {
   "cell_type": "code",
   "execution_count": 16,
   "id": "ad59cb22",
   "metadata": {},
   "outputs": [
    {
     "data": {
      "text/plain": [
       "627210"
      ]
     },
     "execution_count": 16,
     "metadata": {},
     "output_type": "execute_result"
    }
   ],
   "source": [
    "df.distance.value_counts().sum()"
   ]
  },
  {
   "cell_type": "code",
   "execution_count": 17,
   "id": "bb76e79f",
   "metadata": {},
   "outputs": [
    {
     "data": {
      "text/html": [
       "<div>\n",
       "<style scoped>\n",
       "    .dataframe tbody tr th:only-of-type {\n",
       "        vertical-align: middle;\n",
       "    }\n",
       "\n",
       "    .dataframe tbody tr th {\n",
       "        vertical-align: top;\n",
       "    }\n",
       "\n",
       "    .dataframe thead th {\n",
       "        text-align: right;\n",
       "    }\n",
       "</style>\n",
       "<table border=\"1\" class=\"dataframe\">\n",
       "  <thead>\n",
       "    <tr style=\"text-align: right;\">\n",
       "      <th></th>\n",
       "      <th>start_lat</th>\n",
       "      <th>start_lng</th>\n",
       "      <th>end_lat</th>\n",
       "      <th>end_lng</th>\n",
       "      <th>ride_value</th>\n",
       "      <th>year</th>\n",
       "      <th>month</th>\n",
       "      <th>day</th>\n",
       "      <th>weekday</th>\n",
       "      <th>distance</th>\n",
       "    </tr>\n",
       "    <tr>\n",
       "      <th>start_time</th>\n",
       "      <th></th>\n",
       "      <th></th>\n",
       "      <th></th>\n",
       "      <th></th>\n",
       "      <th></th>\n",
       "      <th></th>\n",
       "      <th></th>\n",
       "      <th></th>\n",
       "      <th></th>\n",
       "      <th></th>\n",
       "    </tr>\n",
       "  </thead>\n",
       "  <tbody>\n",
       "    <tr>\n",
       "      <th>2022-03-06 15:02:39.329452</th>\n",
       "      <td>59.407910</td>\n",
       "      <td>24.689836</td>\n",
       "      <td>59.513027</td>\n",
       "      <td>24.831630</td>\n",
       "      <td>3.51825</td>\n",
       "      <td>2022</td>\n",
       "      <td>3</td>\n",
       "      <td>6</td>\n",
       "      <td>6</td>\n",
       "      <td>14.161756</td>\n",
       "    </tr>\n",
       "    <tr>\n",
       "      <th>2022-03-10 11:15:55.177526</th>\n",
       "      <td>59.441650</td>\n",
       "      <td>24.762712</td>\n",
       "      <td>59.426450</td>\n",
       "      <td>24.783076</td>\n",
       "      <td>0.50750</td>\n",
       "      <td>2022</td>\n",
       "      <td>3</td>\n",
       "      <td>10</td>\n",
       "      <td>3</td>\n",
       "      <td>2.043859</td>\n",
       "    </tr>\n",
       "    <tr>\n",
       "      <th>2022-03-06 14:23:33.893257</th>\n",
       "      <td>59.435404</td>\n",
       "      <td>24.749795</td>\n",
       "      <td>59.431901</td>\n",
       "      <td>24.761588</td>\n",
       "      <td>0.19025</td>\n",
       "      <td>2022</td>\n",
       "      <td>3</td>\n",
       "      <td>6</td>\n",
       "      <td>6</td>\n",
       "      <td>0.771782</td>\n",
       "    </tr>\n",
       "    <tr>\n",
       "      <th>2022-03-03 09:11:59.104192</th>\n",
       "      <td>59.406920</td>\n",
       "      <td>24.659006</td>\n",
       "      <td>59.381093</td>\n",
       "      <td>24.641652</td>\n",
       "      <td>0.75600</td>\n",
       "      <td>2022</td>\n",
       "      <td>3</td>\n",
       "      <td>3</td>\n",
       "      <td>3</td>\n",
       "      <td>3.033288</td>\n",
       "    </tr>\n",
       "    <tr>\n",
       "      <th>2022-03-06 00:13:01.290346</th>\n",
       "      <td>59.434940</td>\n",
       "      <td>24.753641</td>\n",
       "      <td>59.489203</td>\n",
       "      <td>24.876170</td>\n",
       "      <td>2.27100</td>\n",
       "      <td>2022</td>\n",
       "      <td>3</td>\n",
       "      <td>6</td>\n",
       "      <td>6</td>\n",
       "      <td>9.177383</td>\n",
       "    </tr>\n",
       "  </tbody>\n",
       "</table>\n",
       "</div>"
      ],
      "text/plain": [
       "                            start_lat  start_lng    end_lat    end_lng  \\\n",
       "start_time                                                               \n",
       "2022-03-06 15:02:39.329452  59.407910  24.689836  59.513027  24.831630   \n",
       "2022-03-10 11:15:55.177526  59.441650  24.762712  59.426450  24.783076   \n",
       "2022-03-06 14:23:33.893257  59.435404  24.749795  59.431901  24.761588   \n",
       "2022-03-03 09:11:59.104192  59.406920  24.659006  59.381093  24.641652   \n",
       "2022-03-06 00:13:01.290346  59.434940  24.753641  59.489203  24.876170   \n",
       "\n",
       "                            ride_value  year  month  day  weekday   distance  \n",
       "start_time                                                                    \n",
       "2022-03-06 15:02:39.329452     3.51825  2022      3    6        6  14.161756  \n",
       "2022-03-10 11:15:55.177526     0.50750  2022      3   10        3   2.043859  \n",
       "2022-03-06 14:23:33.893257     0.19025  2022      3    6        6   0.771782  \n",
       "2022-03-03 09:11:59.104192     0.75600  2022      3    3        3   3.033288  \n",
       "2022-03-06 00:13:01.290346     2.27100  2022      3    6        6   9.177383  "
      ]
     },
     "execution_count": 17,
     "metadata": {},
     "output_type": "execute_result"
    }
   ],
   "source": [
    "#view change\n",
    "df.head()"
   ]
  },
  {
   "cell_type": "code",
   "execution_count": 18,
   "id": "2580bc67",
   "metadata": {},
   "outputs": [],
   "source": [
    "df_new = df.copy()"
   ]
  },
  {
   "cell_type": "markdown",
   "id": "e783f2a9",
   "metadata": {},
   "source": [
    "##  Visualizations"
   ]
  },
  {
   "cell_type": "markdown",
   "id": "5a1af6bc",
   "metadata": {},
   "source": [
    "#### Is there a correlation between ride value and distance?"
   ]
  },
  {
   "cell_type": "code",
   "execution_count": 19,
   "id": "1eb5fe6a",
   "metadata": {},
   "outputs": [
    {
     "data": {
      "image/png": "[encoded data removed]",
      "text/plain": [
       "<Figure size 864x576 with 1 Axes>"
      ]
     },
     "metadata": {
      "needs_background": "light"
     },
     "output_type": "display_data"
    }
   ],
   "source": [
    "#plot a scatter plot to find the correlation between ride value and distance\n",
    "plt.figure(figsize=(12,8))\n",
    "sns.set(style='whitegrid')\n",
    "sns.scatterplot(x='distance', y='ride_value', data=df_new)\n",
    "plt.xlabel('Ride Distance')\n",
    "plt.ylabel('Ride Value')\n",
    "plt.title('Relationship Between Ride value and Distance');"
   ]
  },
  {
   "cell_type": "markdown",
   "id": "f4c0c455",
   "metadata": {},
   "source": [
    "From the above plot, it shows there is a positive correlation between ride value and distance. Shorter distances bring low pay while longer distances bring higher pay.\n",
    "\n",
    "Next, using .corr(), determine the amount of positive between them"
   ]
  },
  {
   "cell_type": "code",
   "execution_count": 20,
   "id": "d8cdd04c",
   "metadata": {},
   "outputs": [
    {
     "data": {
      "text/html": [
       "<div>\n",
       "<style scoped>\n",
       "    .dataframe tbody tr th:only-of-type {\n",
       "        vertical-align: middle;\n",
       "    }\n",
       "\n",
       "    .dataframe tbody tr th {\n",
       "        vertical-align: top;\n",
       "    }\n",
       "\n",
       "    .dataframe thead th {\n",
       "        text-align: right;\n",
       "    }\n",
       "</style>\n",
       "<table border=\"1\" class=\"dataframe\">\n",
       "  <thead>\n",
       "    <tr style=\"text-align: right;\">\n",
       "      <th></th>\n",
       "      <th>ride_value</th>\n",
       "      <th>distance</th>\n",
       "    </tr>\n",
       "  </thead>\n",
       "  <tbody>\n",
       "    <tr>\n",
       "      <th>ride_value</th>\n",
       "      <td>1.000000</td>\n",
       "      <td>0.998841</td>\n",
       "    </tr>\n",
       "    <tr>\n",
       "      <th>distance</th>\n",
       "      <td>0.998841</td>\n",
       "      <td>1.000000</td>\n",
       "    </tr>\n",
       "  </tbody>\n",
       "</table>\n",
       "</div>"
      ],
      "text/plain": [
       "            ride_value  distance\n",
       "ride_value    1.000000  0.998841\n",
       "distance      0.998841  1.000000"
      ]
     },
     "execution_count": 20,
     "metadata": {},
     "output_type": "execute_result"
    }
   ],
   "source": [
    "df_new[['ride_value', 'distance']].corr()"
   ]
  },
  {
   "cell_type": "markdown",
   "id": "faa5668a",
   "metadata": {},
   "source": [
    "Both have a very high positive correlation of 0.99"
   ]
  },
  {
   "cell_type": "markdown",
   "id": "9d5b46e7",
   "metadata": {},
   "source": [
    "#### What days of the week have the highest demand for rides?\n",
    "\n",
    "The data gotten is for the month of March for the year 2022\n",
    "\n",
    "Next, analysis will be done to detect if specific days of the week have more requests for rides than others"
   ]
  },
  {
   "cell_type": "code",
   "execution_count": 21,
   "id": "6fde2b98",
   "metadata": {},
   "outputs": [
    {
     "data": {
      "text/plain": [
       "array([6, 3, 2, 4, 5, 0, 1], dtype=int64)"
      ]
     },
     "execution_count": 21,
     "metadata": {},
     "output_type": "execute_result"
    }
   ],
   "source": [
    "#first find out if the days of the week starts from monday(1) or Monday(0)\n",
    "df_new.weekday.unique()"
   ]
  },
  {
   "cell_type": "code",
   "execution_count": 22,
   "id": "8ce0e429",
   "metadata": {},
   "outputs": [
    {
     "data": {
      "image/png": "[encoded data removed]",
      "text/plain": [
       "<Figure size 864x576 with 1 Axes>"
      ]
     },
     "metadata": {},
     "output_type": "display_data"
    }
   ],
   "source": [
    "#plot using hist plot\n",
    "df_new.weekday.plot(kind='hist', figsize=(12, 8))\n",
    "plt.title('Distribution of Demand during the week')\n",
    "plt.xlabel('Days of the Week')\n",
    "plt.ylabel('Count');"
   ]
  },
  {
   "cell_type": "markdown",
   "id": "11bc501d",
   "metadata": {},
   "source": [
    "Weekday 5 has the highest count of demand, which is Saturday in the month of March, 2022.\n",
    "\n",
    "Next, the weekdays will be analysed by ranking to know the days with the highest demand in the month"
   ]
  },
  {
   "cell_type": "code",
   "execution_count": 23,
   "id": "3efc8b44",
   "metadata": {},
   "outputs": [
    {
     "data": {
      "text/plain": [
       "5    106174\n",
       "4     95506\n",
       "2     94640\n",
       "1     90616\n",
       "3     85618\n",
       "6     83610\n",
       "0     71046\n",
       "Name: weekday, dtype: int64"
      ]
     },
     "execution_count": 23,
     "metadata": {},
     "output_type": "execute_result"
    }
   ],
   "source": [
    "df_new.weekday.value_counts()"
   ]
  },
  {
   "cell_type": "markdown",
   "id": "393f1822",
   "metadata": {},
   "source": [
    "The next day of the week with a high demand after Saturday is Friday then Wednesday, with Monday having the least demand for rides in this month."
   ]
  },
  {
   "cell_type": "markdown",
   "id": "4e38ebd5",
   "metadata": {},
   "source": [
    "#### When was the longest ride and what was the route?"
   ]
  },
  {
   "cell_type": "code",
   "execution_count": 24,
   "id": "ee3e52a3",
   "metadata": {},
   "outputs": [
    {
     "data": {
      "text/plain": [
       "start_time\n",
       "2022-03-22 00:43:30.985685    15212.719885\n",
       "Name: distance, dtype: float64"
      ]
     },
     "execution_count": 24,
     "metadata": {},
     "output_type": "execute_result"
    }
   ],
   "source": [
    "#find the longest distance traveled\n",
    "df_new.distance.sort_values(ascending=False).head(1)"
   ]
  },
  {
   "cell_type": "code",
   "execution_count": 25,
   "id": "a3514855",
   "metadata": {},
   "outputs": [
    {
     "data": {
      "text/html": [
       "<div>\n",
       "<style scoped>\n",
       "    .dataframe tbody tr th:only-of-type {\n",
       "        vertical-align: middle;\n",
       "    }\n",
       "\n",
       "    .dataframe tbody tr th {\n",
       "        vertical-align: top;\n",
       "    }\n",
       "\n",
       "    .dataframe thead th {\n",
       "        text-align: right;\n",
       "    }\n",
       "</style>\n",
       "<table border=\"1\" class=\"dataframe\">\n",
       "  <thead>\n",
       "    <tr style=\"text-align: right;\">\n",
       "      <th></th>\n",
       "      <th>start_lat</th>\n",
       "      <th>start_lng</th>\n",
       "      <th>end_lat</th>\n",
       "      <th>end_lng</th>\n",
       "      <th>ride_value</th>\n",
       "      <th>year</th>\n",
       "      <th>month</th>\n",
       "      <th>day</th>\n",
       "      <th>weekday</th>\n",
       "      <th>distance</th>\n",
       "    </tr>\n",
       "    <tr>\n",
       "      <th>start_time</th>\n",
       "      <th></th>\n",
       "      <th></th>\n",
       "      <th></th>\n",
       "      <th></th>\n",
       "      <th></th>\n",
       "      <th></th>\n",
       "      <th></th>\n",
       "      <th></th>\n",
       "      <th></th>\n",
       "      <th></th>\n",
       "    </tr>\n",
       "  </thead>\n",
       "  <tbody>\n",
       "    <tr>\n",
       "      <th>2022-03-22 00:43:30.985685</th>\n",
       "      <td>59.436629</td>\n",
       "      <td>24.751962</td>\n",
       "      <td>-37.819979</td>\n",
       "      <td>144.96611</td>\n",
       "      <td>3172.701</td>\n",
       "      <td>2022</td>\n",
       "      <td>3</td>\n",
       "      <td>22</td>\n",
       "      <td>1</td>\n",
       "      <td>15212.719885</td>\n",
       "    </tr>\n",
       "  </tbody>\n",
       "</table>\n",
       "</div>"
      ],
      "text/plain": [
       "                            start_lat  start_lng    end_lat    end_lng  \\\n",
       "start_time                                                               \n",
       "2022-03-22 00:43:30.985685  59.436629  24.751962 -37.819979  144.96611   \n",
       "\n",
       "                            ride_value  year  month  day  weekday  \\\n",
       "start_time                                                          \n",
       "2022-03-22 00:43:30.985685    3172.701  2022      3   22        1   \n",
       "\n",
       "                                distance  \n",
       "start_time                                \n",
       "2022-03-22 00:43:30.985685  15212.719885  "
      ]
     },
     "execution_count": 25,
     "metadata": {},
     "output_type": "execute_result"
    }
   ],
   "source": [
    "long_ride = df_new.nlargest(1, 'distance')\n",
    "long_ride"
   ]
  },
  {
   "cell_type": "markdown",
   "id": "c25702b9",
   "metadata": {},
   "source": [
    "The longest ride was on the 22nd of March, 2022. The ride started at 12:43AM for 15212.7KM from 59.43lat, 24.75lng to -37.8lat, 166.96lng.\n",
    "\n",
    "This ride was also the highest paid ride with a ride value of 3,172.701 Euro\n"
   ]
  },
  {
   "cell_type": "code",
   "execution_count": 36,
   "id": "20107326",
   "metadata": {},
   "outputs": [
    {
     "data": {
      "image/png": "[encoded data removed]",
      "text/plain": [
       "<Figure size 1440x1440 with 1 Axes>"
      ]
     },
     "metadata": {},
     "output_type": "display_data"
    }
   ],
   "source": [
    "#plot the time series against the ride value to indicate the change in ride prices over time\n",
    "df_new.plot(y='ride_value', figsize=(20, 20))\n",
    "plt.ylabel('Ride Value')\n",
    "plt.title('Ride Price Change over Time');"
   ]
  },
  {
   "cell_type": "code",
   "execution_count": null,
   "id": "38dc9d4c",
   "metadata": {},
   "outputs": [],
   "source": []
  }
 ],
 "metadata": {
  "kernelspec": {
   "display_name": "Python 3 (ipykernel)",
   "language": "python",
   "name": "python3"
  },
  "language_info": {
   "codemirror_mode": {
    "name": "ipython",
    "version": 3
   },
   "file_extension": ".py",
   "mimetype": "text/x-python",
   "name": "python",
   "nbconvert_exporter": "python",
   "pygments_lexer": "ipython3",
   "version": "3.9.12"
  }
 },
 "nbformat": 4,
 "nbformat_minor": 5
}
