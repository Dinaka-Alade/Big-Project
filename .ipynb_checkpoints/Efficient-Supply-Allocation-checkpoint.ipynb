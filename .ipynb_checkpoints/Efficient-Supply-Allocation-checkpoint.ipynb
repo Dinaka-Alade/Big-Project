{
 "cells": [
  {
   "cell_type": "code",
   "execution_count": 1,
   "id": "6e191b10",
   "metadata": {},
   "outputs": [],
   "source": [
    "#load necessary libraries\n",
    "import pandas as pd\n",
    "import numpy as np\n",
    "import matplotlib.pyplot as plt\n",
    "%matplotlib inline\n",
    "import seaborn as sns\n",
    "from geopy.geocoders import Nominatim"
   ]
  },
  {
   "cell_type": "markdown",
   "id": "2f8fd67d",
   "metadata": {},
   "source": [
    "## Data Wrangling\n",
    "\n",
    "\n",
    "### Gathering"
   ]
  },
  {
   "cell_type": "code",
   "execution_count": 2,
   "id": "72dde40c",
   "metadata": {},
   "outputs": [
    {
     "data": {
      "text/html": [
       "<div>\n",
       "<style scoped>\n",
       "    .dataframe tbody tr th:only-of-type {\n",
       "        vertical-align: middle;\n",
       "    }\n",
       "\n",
       "    .dataframe tbody tr th {\n",
       "        vertical-align: top;\n",
       "    }\n",
       "\n",
       "    .dataframe thead th {\n",
       "        text-align: right;\n",
       "    }\n",
       "</style>\n",
       "<table border=\"1\" class=\"dataframe\">\n",
       "  <thead>\n",
       "    <tr style=\"text-align: right;\">\n",
       "      <th></th>\n",
       "      <th>start_time</th>\n",
       "      <th>start_lat</th>\n",
       "      <th>start_lng</th>\n",
       "      <th>end_lat</th>\n",
       "      <th>end_lng</th>\n",
       "      <th>ride_value</th>\n",
       "    </tr>\n",
       "  </thead>\n",
       "  <tbody>\n",
       "    <tr>\n",
       "      <th>0</th>\n",
       "      <td>2022-03-06 15:02:39.329452000</td>\n",
       "      <td>59.407910</td>\n",
       "      <td>24.689836</td>\n",
       "      <td>59.513027</td>\n",
       "      <td>24.831630</td>\n",
       "      <td>3.51825</td>\n",
       "    </tr>\n",
       "    <tr>\n",
       "      <th>1</th>\n",
       "      <td>2022-03-10 11:15:55.177526000</td>\n",
       "      <td>59.441650</td>\n",
       "      <td>24.762712</td>\n",
       "      <td>59.426450</td>\n",
       "      <td>24.783076</td>\n",
       "      <td>0.50750</td>\n",
       "    </tr>\n",
       "    <tr>\n",
       "      <th>2</th>\n",
       "      <td>2022-03-06 14:23:33.893257000</td>\n",
       "      <td>59.435404</td>\n",
       "      <td>24.749795</td>\n",
       "      <td>59.431901</td>\n",
       "      <td>24.761588</td>\n",
       "      <td>0.19025</td>\n",
       "    </tr>\n",
       "    <tr>\n",
       "      <th>3</th>\n",
       "      <td>2022-03-03 09:11:59.104192000</td>\n",
       "      <td>59.406920</td>\n",
       "      <td>24.659006</td>\n",
       "      <td>59.381093</td>\n",
       "      <td>24.641652</td>\n",
       "      <td>0.75600</td>\n",
       "    </tr>\n",
       "    <tr>\n",
       "      <th>4</th>\n",
       "      <td>2022-03-06 00:13:01.290346000</td>\n",
       "      <td>59.434940</td>\n",
       "      <td>24.753641</td>\n",
       "      <td>59.489203</td>\n",
       "      <td>24.876170</td>\n",
       "      <td>2.27100</td>\n",
       "    </tr>\n",
       "  </tbody>\n",
       "</table>\n",
       "</div>"
      ],
      "text/plain": [
       "                      start_time  start_lat  start_lng    end_lat    end_lng  \\\n",
       "0  2022-03-06 15:02:39.329452000  59.407910  24.689836  59.513027  24.831630   \n",
       "1  2022-03-10 11:15:55.177526000  59.441650  24.762712  59.426450  24.783076   \n",
       "2  2022-03-06 14:23:33.893257000  59.435404  24.749795  59.431901  24.761588   \n",
       "3  2022-03-03 09:11:59.104192000  59.406920  24.659006  59.381093  24.641652   \n",
       "4  2022-03-06 00:13:01.290346000  59.434940  24.753641  59.489203  24.876170   \n",
       "\n",
       "   ride_value  \n",
       "0     3.51825  \n",
       "1     0.50750  \n",
       "2     0.19025  \n",
       "3     0.75600  \n",
       "4     2.27100  "
      ]
     },
     "execution_count": 2,
     "metadata": {},
     "output_type": "execute_result"
    }
   ],
   "source": [
    "#load the dataset using pandas\n",
    "df = pd.read_csv('robotex5.csv')\n",
    "df.head()"
   ]
  },
  {
   "cell_type": "markdown",
   "id": "d85eca15",
   "metadata": {},
   "source": [
    "## Data Assessment"
   ]
  },
  {
   "cell_type": "code",
   "execution_count": 3,
   "id": "0f275f0d",
   "metadata": {},
   "outputs": [
    {
     "data": {
      "text/plain": [
       "(627210, 6)"
      ]
     },
     "execution_count": 3,
     "metadata": {},
     "output_type": "execute_result"
    }
   ],
   "source": [
    "#explore the dataset\n",
    "#check the dimension\n",
    "df.shape"
   ]
  },
  {
   "cell_type": "code",
   "execution_count": 4,
   "id": "72ee1fe5",
   "metadata": {},
   "outputs": [
    {
     "name": "stdout",
     "output_type": "stream",
     "text": [
      "<class 'pandas.core.frame.DataFrame'>\n",
      "RangeIndex: 627210 entries, 0 to 627209\n",
      "Data columns (total 6 columns):\n",
      " #   Column      Non-Null Count   Dtype  \n",
      "---  ------      --------------   -----  \n",
      " 0   start_time  627210 non-null  object \n",
      " 1   start_lat   627210 non-null  float64\n",
      " 2   start_lng   627210 non-null  float64\n",
      " 3   end_lat     627210 non-null  float64\n",
      " 4   end_lng     627210 non-null  float64\n",
      " 5   ride_value  627210 non-null  float64\n",
      "dtypes: float64(5), object(1)\n",
      "memory usage: 28.7+ MB\n"
     ]
    }
   ],
   "source": [
    "#check the summary\n",
    "df.info()"
   ]
  },
  {
   "cell_type": "code",
   "execution_count": 5,
   "id": "7e468aca",
   "metadata": {},
   "outputs": [
    {
     "data": {
      "text/html": [
       "<div>\n",
       "<style scoped>\n",
       "    .dataframe tbody tr th:only-of-type {\n",
       "        vertical-align: middle;\n",
       "    }\n",
       "\n",
       "    .dataframe tbody tr th {\n",
       "        vertical-align: top;\n",
       "    }\n",
       "\n",
       "    .dataframe thead th {\n",
       "        text-align: right;\n",
       "    }\n",
       "</style>\n",
       "<table border=\"1\" class=\"dataframe\">\n",
       "  <thead>\n",
       "    <tr style=\"text-align: right;\">\n",
       "      <th></th>\n",
       "      <th>start_lat</th>\n",
       "      <th>start_lng</th>\n",
       "      <th>end_lat</th>\n",
       "      <th>end_lng</th>\n",
       "      <th>ride_value</th>\n",
       "    </tr>\n",
       "  </thead>\n",
       "  <tbody>\n",
       "    <tr>\n",
       "      <th>count</th>\n",
       "      <td>627210.000000</td>\n",
       "      <td>627210.000000</td>\n",
       "      <td>627210.000000</td>\n",
       "      <td>627210.000000</td>\n",
       "      <td>627210.000000</td>\n",
       "    </tr>\n",
       "    <tr>\n",
       "      <th>mean</th>\n",
       "      <td>59.428682</td>\n",
       "      <td>24.743468</td>\n",
       "      <td>59.397797</td>\n",
       "      <td>24.724847</td>\n",
       "      <td>2.261384</td>\n",
       "    </tr>\n",
       "    <tr>\n",
       "      <th>std</th>\n",
       "      <td>0.021764</td>\n",
       "      <td>0.056872</td>\n",
       "      <td>1.392755</td>\n",
       "      <td>1.650709</td>\n",
       "      <td>44.889892</td>\n",
       "    </tr>\n",
       "    <tr>\n",
       "      <th>min</th>\n",
       "      <td>59.321557</td>\n",
       "      <td>24.505199</td>\n",
       "      <td>-37.819979</td>\n",
       "      <td>-122.453962</td>\n",
       "      <td>0.107628</td>\n",
       "    </tr>\n",
       "    <tr>\n",
       "      <th>25%</th>\n",
       "      <td>59.418803</td>\n",
       "      <td>24.713140</td>\n",
       "      <td>59.415215</td>\n",
       "      <td>24.707919</td>\n",
       "      <td>0.545250</td>\n",
       "    </tr>\n",
       "    <tr>\n",
       "      <th>50%</th>\n",
       "      <td>59.432069</td>\n",
       "      <td>24.744674</td>\n",
       "      <td>59.430697</td>\n",
       "      <td>24.744335</td>\n",
       "      <td>1.059000</td>\n",
       "    </tr>\n",
       "    <tr>\n",
       "      <th>75%</th>\n",
       "      <td>59.439024</td>\n",
       "      <td>24.768115</td>\n",
       "      <td>59.439262</td>\n",
       "      <td>24.773924</td>\n",
       "      <td>1.712000</td>\n",
       "    </tr>\n",
       "    <tr>\n",
       "      <th>max</th>\n",
       "      <td>59.566998</td>\n",
       "      <td>24.973743</td>\n",
       "      <td>61.552744</td>\n",
       "      <td>144.966110</td>\n",
       "      <td>3172.701000</td>\n",
       "    </tr>\n",
       "  </tbody>\n",
       "</table>\n",
       "</div>"
      ],
      "text/plain": [
       "           start_lat      start_lng        end_lat        end_lng  \\\n",
       "count  627210.000000  627210.000000  627210.000000  627210.000000   \n",
       "mean       59.428682      24.743468      59.397797      24.724847   \n",
       "std         0.021764       0.056872       1.392755       1.650709   \n",
       "min        59.321557      24.505199     -37.819979    -122.453962   \n",
       "25%        59.418803      24.713140      59.415215      24.707919   \n",
       "50%        59.432069      24.744674      59.430697      24.744335   \n",
       "75%        59.439024      24.768115      59.439262      24.773924   \n",
       "max        59.566998      24.973743      61.552744     144.966110   \n",
       "\n",
       "          ride_value  \n",
       "count  627210.000000  \n",
       "mean        2.261384  \n",
       "std        44.889892  \n",
       "min         0.107628  \n",
       "25%         0.545250  \n",
       "50%         1.059000  \n",
       "75%         1.712000  \n",
       "max      3172.701000  "
      ]
     },
     "execution_count": 5,
     "metadata": {},
     "output_type": "execute_result"
    }
   ],
   "source": [
    "#check the summary statistics\n",
    "df.describe()"
   ]
  },
  {
   "cell_type": "code",
   "execution_count": 6,
   "id": "4b0330f5",
   "metadata": {},
   "outputs": [
    {
     "data": {
      "text/plain": [
       "start_time    0\n",
       "start_lat     0\n",
       "start_lng     0\n",
       "end_lat       0\n",
       "end_lng       0\n",
       "ride_value    0\n",
       "dtype: int64"
      ]
     },
     "execution_count": 6,
     "metadata": {},
     "output_type": "execute_result"
    }
   ],
   "source": [
    "#check for null values\n",
    "df.isnull().sum()"
   ]
  },
  {
   "cell_type": "code",
   "execution_count": 7,
   "id": "9959694e",
   "metadata": {},
   "outputs": [
    {
     "data": {
      "text/plain": [
       "4564"
      ]
     },
     "execution_count": 7,
     "metadata": {},
     "output_type": "execute_result"
    }
   ],
   "source": [
    "df.duplicated().sum()"
   ]
  },
  {
   "cell_type": "code",
   "execution_count": 8,
   "id": "b685e6f2",
   "metadata": {},
   "outputs": [],
   "source": [
    "df.drop_duplicates(inplace=True)"
   ]
  },
  {
   "cell_type": "code",
   "execution_count": 9,
   "id": "017f2b37",
   "metadata": {},
   "outputs": [
    {
     "data": {
      "text/plain": [
       "191987    3172.701000\n",
       "142420    2861.653025\n",
       "362976    2861.651750\n",
       "392267    2861.651750\n",
       "475443    2861.573500\n",
       "213786    2861.573500\n",
       "217253    2861.573500\n",
       "494555    2861.573500\n",
       "617595    2861.573500\n",
       "590387    2860.572750\n",
       "269704    2860.572750\n",
       "125747    2860.572750\n",
       "334167    2860.572750\n",
       "549705    2859.863250\n",
       "407151    2859.863250\n",
       "596018    2859.863250\n",
       "153058    2859.863250\n",
       "475859    2859.863250\n",
       "606773    2859.858680\n",
       "270832    2859.665816\n",
       "219101    2859.651500\n",
       "518365    2859.639250\n",
       "58839     2859.603250\n",
       "172472    2859.515250\n",
       "199076    2859.456250\n",
       "128906    2859.431250\n",
       "458097    2859.431250\n",
       "288786    2859.403500\n",
       "152861    2859.379000\n",
       "505370    2859.379000\n",
       "Name: ride_value, dtype: float64"
      ]
     },
     "execution_count": 9,
     "metadata": {},
     "output_type": "execute_result"
    }
   ],
   "source": [
    "#inspect the ride value column\n",
    "df.ride_value.sort_values(ascending=False).head(30)"
   ]
  },
  {
   "cell_type": "markdown",
   "id": "c8343f04",
   "metadata": {},
   "source": [
    "#### Insights\n",
    "\n",
    "There are no null values, the data types are correct except for the start time\n",
    "\n",
    "\n",
    "\n",
    "#### Corrections\n",
    "- Change the data type of Start time to datetimeindex \n",
    "- Change the start time to the index\n",
    "- Get the distance between both locations\n",
    "- Get the name of the locations"
   ]
  },
  {
   "cell_type": "markdown",
   "id": "6d9ca0b9",
   "metadata": {},
   "source": [
    "## Cleaning"
   ]
  },
  {
   "cell_type": "code",
   "execution_count": 10,
   "id": "c78fc062",
   "metadata": {},
   "outputs": [],
   "source": [
    "#change the datatype of start time\n",
    "df['start_time'] = pd.to_datetime(df['start_time'])"
   ]
  },
  {
   "cell_type": "code",
   "execution_count": 11,
   "id": "19ade17a",
   "metadata": {},
   "outputs": [
    {
     "data": {
      "text/plain": [
       "start_time    datetime64[ns]\n",
       "start_lat            float64\n",
       "start_lng            float64\n",
       "end_lat              float64\n",
       "end_lng              float64\n",
       "ride_value           float64\n",
       "dtype: object"
      ]
     },
     "execution_count": 11,
     "metadata": {},
     "output_type": "execute_result"
    }
   ],
   "source": [
    "#check for change\n",
    "df.dtypes"
   ]
  },
  {
   "cell_type": "code",
   "execution_count": 12,
   "id": "7bc76200",
   "metadata": {},
   "outputs": [
    {
     "data": {
      "text/html": [
       "<div>\n",
       "<style scoped>\n",
       "    .dataframe tbody tr th:only-of-type {\n",
       "        vertical-align: middle;\n",
       "    }\n",
       "\n",
       "    .dataframe tbody tr th {\n",
       "        vertical-align: top;\n",
       "    }\n",
       "\n",
       "    .dataframe thead th {\n",
       "        text-align: right;\n",
       "    }\n",
       "</style>\n",
       "<table border=\"1\" class=\"dataframe\">\n",
       "  <thead>\n",
       "    <tr style=\"text-align: right;\">\n",
       "      <th></th>\n",
       "      <th>start_time</th>\n",
       "      <th>start_lat</th>\n",
       "      <th>start_lng</th>\n",
       "      <th>end_lat</th>\n",
       "      <th>end_lng</th>\n",
       "      <th>ride_value</th>\n",
       "    </tr>\n",
       "  </thead>\n",
       "  <tbody>\n",
       "    <tr>\n",
       "      <th>0</th>\n",
       "      <td>2022-03-06 15:02:39.329452</td>\n",
       "      <td>59.407910</td>\n",
       "      <td>24.689836</td>\n",
       "      <td>59.513027</td>\n",
       "      <td>24.831630</td>\n",
       "      <td>3.51825</td>\n",
       "    </tr>\n",
       "    <tr>\n",
       "      <th>1</th>\n",
       "      <td>2022-03-10 11:15:55.177526</td>\n",
       "      <td>59.441650</td>\n",
       "      <td>24.762712</td>\n",
       "      <td>59.426450</td>\n",
       "      <td>24.783076</td>\n",
       "      <td>0.50750</td>\n",
       "    </tr>\n",
       "    <tr>\n",
       "      <th>2</th>\n",
       "      <td>2022-03-06 14:23:33.893257</td>\n",
       "      <td>59.435404</td>\n",
       "      <td>24.749795</td>\n",
       "      <td>59.431901</td>\n",
       "      <td>24.761588</td>\n",
       "      <td>0.19025</td>\n",
       "    </tr>\n",
       "    <tr>\n",
       "      <th>3</th>\n",
       "      <td>2022-03-03 09:11:59.104192</td>\n",
       "      <td>59.406920</td>\n",
       "      <td>24.659006</td>\n",
       "      <td>59.381093</td>\n",
       "      <td>24.641652</td>\n",
       "      <td>0.75600</td>\n",
       "    </tr>\n",
       "    <tr>\n",
       "      <th>4</th>\n",
       "      <td>2022-03-06 00:13:01.290346</td>\n",
       "      <td>59.434940</td>\n",
       "      <td>24.753641</td>\n",
       "      <td>59.489203</td>\n",
       "      <td>24.876170</td>\n",
       "      <td>2.27100</td>\n",
       "    </tr>\n",
       "  </tbody>\n",
       "</table>\n",
       "</div>"
      ],
      "text/plain": [
       "                  start_time  start_lat  start_lng    end_lat    end_lng  \\\n",
       "0 2022-03-06 15:02:39.329452  59.407910  24.689836  59.513027  24.831630   \n",
       "1 2022-03-10 11:15:55.177526  59.441650  24.762712  59.426450  24.783076   \n",
       "2 2022-03-06 14:23:33.893257  59.435404  24.749795  59.431901  24.761588   \n",
       "3 2022-03-03 09:11:59.104192  59.406920  24.659006  59.381093  24.641652   \n",
       "4 2022-03-06 00:13:01.290346  59.434940  24.753641  59.489203  24.876170   \n",
       "\n",
       "   ride_value  \n",
       "0     3.51825  \n",
       "1     0.50750  \n",
       "2     0.19025  \n",
       "3     0.75600  \n",
       "4     2.27100  "
      ]
     },
     "execution_count": 12,
     "metadata": {},
     "output_type": "execute_result"
    }
   ],
   "source": [
    "df.head()"
   ]
  },
  {
   "cell_type": "code",
   "execution_count": 13,
   "id": "b7302061",
   "metadata": {},
   "outputs": [],
   "source": [
    "#split start time into different dates and time\n",
    "df['year'] = df['start_time'].dt.year\n",
    "df['month'] = df['start_time'].dt.month\n",
    "df['day'] = df['start_time'].dt.day\n",
    "df['weekday'] = df['start_time'].dt.weekday\n",
    "df['hour'] = df['start_time'].dt.hour"
   ]
  },
  {
   "cell_type": "code",
   "execution_count": 14,
   "id": "5d92c11a",
   "metadata": {},
   "outputs": [],
   "source": [
    "#change the start time to the index\n",
    "df.set_index('start_time', inplace=True)"
   ]
  },
  {
   "cell_type": "code",
   "execution_count": 15,
   "id": "b54eece5",
   "metadata": {},
   "outputs": [
    {
     "data": {
      "text/html": [
       "<div>\n",
       "<style scoped>\n",
       "    .dataframe tbody tr th:only-of-type {\n",
       "        vertical-align: middle;\n",
       "    }\n",
       "\n",
       "    .dataframe tbody tr th {\n",
       "        vertical-align: top;\n",
       "    }\n",
       "\n",
       "    .dataframe thead th {\n",
       "        text-align: right;\n",
       "    }\n",
       "</style>\n",
       "<table border=\"1\" class=\"dataframe\">\n",
       "  <thead>\n",
       "    <tr style=\"text-align: right;\">\n",
       "      <th></th>\n",
       "      <th>start_lat</th>\n",
       "      <th>start_lng</th>\n",
       "      <th>end_lat</th>\n",
       "      <th>end_lng</th>\n",
       "      <th>ride_value</th>\n",
       "      <th>year</th>\n",
       "      <th>month</th>\n",
       "      <th>day</th>\n",
       "      <th>weekday</th>\n",
       "      <th>hour</th>\n",
       "    </tr>\n",
       "    <tr>\n",
       "      <th>start_time</th>\n",
       "      <th></th>\n",
       "      <th></th>\n",
       "      <th></th>\n",
       "      <th></th>\n",
       "      <th></th>\n",
       "      <th></th>\n",
       "      <th></th>\n",
       "      <th></th>\n",
       "      <th></th>\n",
       "      <th></th>\n",
       "    </tr>\n",
       "  </thead>\n",
       "  <tbody>\n",
       "    <tr>\n",
       "      <th>2022-03-06 15:02:39.329452</th>\n",
       "      <td>59.407910</td>\n",
       "      <td>24.689836</td>\n",
       "      <td>59.513027</td>\n",
       "      <td>24.831630</td>\n",
       "      <td>3.51825</td>\n",
       "      <td>2022</td>\n",
       "      <td>3</td>\n",
       "      <td>6</td>\n",
       "      <td>6</td>\n",
       "      <td>15</td>\n",
       "    </tr>\n",
       "    <tr>\n",
       "      <th>2022-03-10 11:15:55.177526</th>\n",
       "      <td>59.441650</td>\n",
       "      <td>24.762712</td>\n",
       "      <td>59.426450</td>\n",
       "      <td>24.783076</td>\n",
       "      <td>0.50750</td>\n",
       "      <td>2022</td>\n",
       "      <td>3</td>\n",
       "      <td>10</td>\n",
       "      <td>3</td>\n",
       "      <td>11</td>\n",
       "    </tr>\n",
       "    <tr>\n",
       "      <th>2022-03-06 14:23:33.893257</th>\n",
       "      <td>59.435404</td>\n",
       "      <td>24.749795</td>\n",
       "      <td>59.431901</td>\n",
       "      <td>24.761588</td>\n",
       "      <td>0.19025</td>\n",
       "      <td>2022</td>\n",
       "      <td>3</td>\n",
       "      <td>6</td>\n",
       "      <td>6</td>\n",
       "      <td>14</td>\n",
       "    </tr>\n",
       "    <tr>\n",
       "      <th>2022-03-03 09:11:59.104192</th>\n",
       "      <td>59.406920</td>\n",
       "      <td>24.659006</td>\n",
       "      <td>59.381093</td>\n",
       "      <td>24.641652</td>\n",
       "      <td>0.75600</td>\n",
       "      <td>2022</td>\n",
       "      <td>3</td>\n",
       "      <td>3</td>\n",
       "      <td>3</td>\n",
       "      <td>9</td>\n",
       "    </tr>\n",
       "    <tr>\n",
       "      <th>2022-03-06 00:13:01.290346</th>\n",
       "      <td>59.434940</td>\n",
       "      <td>24.753641</td>\n",
       "      <td>59.489203</td>\n",
       "      <td>24.876170</td>\n",
       "      <td>2.27100</td>\n",
       "      <td>2022</td>\n",
       "      <td>3</td>\n",
       "      <td>6</td>\n",
       "      <td>6</td>\n",
       "      <td>0</td>\n",
       "    </tr>\n",
       "  </tbody>\n",
       "</table>\n",
       "</div>"
      ],
      "text/plain": [
       "                            start_lat  start_lng    end_lat    end_lng  \\\n",
       "start_time                                                               \n",
       "2022-03-06 15:02:39.329452  59.407910  24.689836  59.513027  24.831630   \n",
       "2022-03-10 11:15:55.177526  59.441650  24.762712  59.426450  24.783076   \n",
       "2022-03-06 14:23:33.893257  59.435404  24.749795  59.431901  24.761588   \n",
       "2022-03-03 09:11:59.104192  59.406920  24.659006  59.381093  24.641652   \n",
       "2022-03-06 00:13:01.290346  59.434940  24.753641  59.489203  24.876170   \n",
       "\n",
       "                            ride_value  year  month  day  weekday  hour  \n",
       "start_time                                                               \n",
       "2022-03-06 15:02:39.329452     3.51825  2022      3    6        6    15  \n",
       "2022-03-10 11:15:55.177526     0.50750  2022      3   10        3    11  \n",
       "2022-03-06 14:23:33.893257     0.19025  2022      3    6        6    14  \n",
       "2022-03-03 09:11:59.104192     0.75600  2022      3    3        3     9  \n",
       "2022-03-06 00:13:01.290346     2.27100  2022      3    6        6     0  "
      ]
     },
     "execution_count": 15,
     "metadata": {},
     "output_type": "execute_result"
    }
   ],
   "source": [
    "df.head()"
   ]
  },
  {
   "cell_type": "code",
   "execution_count": 16,
   "id": "784008cb",
   "metadata": {},
   "outputs": [],
   "source": [
    "#create a function to calculate the distance\n",
    "def dist_convert(lon1, lat1, lon2, lat2):\n",
    "    lon1, lat1, lon2, lat2 = map(np.radians, [lon1, lat1, lon2, lat2])\n",
    "\n",
    "    dlon = lon2 - lon1\n",
    "    dlat = lat2 - lat1\n",
    "\n",
    "    a = np.sin(dlat / 2.0) ** 2 + np.cos(lat1) * np.cos(lat2) * np.sin(dlon / 2.0) ** 2\n",
    "\n",
    "    c = 2 * np.arcsin(np.sqrt(a))\n",
    "    km = 6367 * c\n",
    "    return km"
   ]
  },
  {
   "cell_type": "code",
   "execution_count": 17,
   "id": "f5d93974",
   "metadata": {},
   "outputs": [
    {
     "data": {
      "text/html": [
       "<div>\n",
       "<style scoped>\n",
       "    .dataframe tbody tr th:only-of-type {\n",
       "        vertical-align: middle;\n",
       "    }\n",
       "\n",
       "    .dataframe tbody tr th {\n",
       "        vertical-align: top;\n",
       "    }\n",
       "\n",
       "    .dataframe thead th {\n",
       "        text-align: right;\n",
       "    }\n",
       "</style>\n",
       "<table border=\"1\" class=\"dataframe\">\n",
       "  <thead>\n",
       "    <tr style=\"text-align: right;\">\n",
       "      <th></th>\n",
       "      <th>start_lat</th>\n",
       "      <th>start_lng</th>\n",
       "      <th>end_lat</th>\n",
       "      <th>end_lng</th>\n",
       "      <th>ride_value</th>\n",
       "      <th>year</th>\n",
       "      <th>month</th>\n",
       "      <th>day</th>\n",
       "      <th>weekday</th>\n",
       "      <th>hour</th>\n",
       "      <th>distance</th>\n",
       "    </tr>\n",
       "    <tr>\n",
       "      <th>start_time</th>\n",
       "      <th></th>\n",
       "      <th></th>\n",
       "      <th></th>\n",
       "      <th></th>\n",
       "      <th></th>\n",
       "      <th></th>\n",
       "      <th></th>\n",
       "      <th></th>\n",
       "      <th></th>\n",
       "      <th></th>\n",
       "      <th></th>\n",
       "    </tr>\n",
       "  </thead>\n",
       "  <tbody>\n",
       "    <tr>\n",
       "      <th>2022-03-06 15:02:39.329452</th>\n",
       "      <td>59.407910</td>\n",
       "      <td>24.689836</td>\n",
       "      <td>59.513027</td>\n",
       "      <td>24.831630</td>\n",
       "      <td>3.51825</td>\n",
       "      <td>2022</td>\n",
       "      <td>3</td>\n",
       "      <td>6</td>\n",
       "      <td>6</td>\n",
       "      <td>15</td>\n",
       "      <td>14.161756</td>\n",
       "    </tr>\n",
       "    <tr>\n",
       "      <th>2022-03-10 11:15:55.177526</th>\n",
       "      <td>59.441650</td>\n",
       "      <td>24.762712</td>\n",
       "      <td>59.426450</td>\n",
       "      <td>24.783076</td>\n",
       "      <td>0.50750</td>\n",
       "      <td>2022</td>\n",
       "      <td>3</td>\n",
       "      <td>10</td>\n",
       "      <td>3</td>\n",
       "      <td>11</td>\n",
       "      <td>2.043859</td>\n",
       "    </tr>\n",
       "    <tr>\n",
       "      <th>2022-03-06 14:23:33.893257</th>\n",
       "      <td>59.435404</td>\n",
       "      <td>24.749795</td>\n",
       "      <td>59.431901</td>\n",
       "      <td>24.761588</td>\n",
       "      <td>0.19025</td>\n",
       "      <td>2022</td>\n",
       "      <td>3</td>\n",
       "      <td>6</td>\n",
       "      <td>6</td>\n",
       "      <td>14</td>\n",
       "      <td>0.771782</td>\n",
       "    </tr>\n",
       "    <tr>\n",
       "      <th>2022-03-03 09:11:59.104192</th>\n",
       "      <td>59.406920</td>\n",
       "      <td>24.659006</td>\n",
       "      <td>59.381093</td>\n",
       "      <td>24.641652</td>\n",
       "      <td>0.75600</td>\n",
       "      <td>2022</td>\n",
       "      <td>3</td>\n",
       "      <td>3</td>\n",
       "      <td>3</td>\n",
       "      <td>9</td>\n",
       "      <td>3.033288</td>\n",
       "    </tr>\n",
       "    <tr>\n",
       "      <th>2022-03-06 00:13:01.290346</th>\n",
       "      <td>59.434940</td>\n",
       "      <td>24.753641</td>\n",
       "      <td>59.489203</td>\n",
       "      <td>24.876170</td>\n",
       "      <td>2.27100</td>\n",
       "      <td>2022</td>\n",
       "      <td>3</td>\n",
       "      <td>6</td>\n",
       "      <td>6</td>\n",
       "      <td>0</td>\n",
       "      <td>9.177383</td>\n",
       "    </tr>\n",
       "  </tbody>\n",
       "</table>\n",
       "</div>"
      ],
      "text/plain": [
       "                            start_lat  start_lng    end_lat    end_lng  \\\n",
       "start_time                                                               \n",
       "2022-03-06 15:02:39.329452  59.407910  24.689836  59.513027  24.831630   \n",
       "2022-03-10 11:15:55.177526  59.441650  24.762712  59.426450  24.783076   \n",
       "2022-03-06 14:23:33.893257  59.435404  24.749795  59.431901  24.761588   \n",
       "2022-03-03 09:11:59.104192  59.406920  24.659006  59.381093  24.641652   \n",
       "2022-03-06 00:13:01.290346  59.434940  24.753641  59.489203  24.876170   \n",
       "\n",
       "                            ride_value  year  month  day  weekday  hour  \\\n",
       "start_time                                                                \n",
       "2022-03-06 15:02:39.329452     3.51825  2022      3    6        6    15   \n",
       "2022-03-10 11:15:55.177526     0.50750  2022      3   10        3    11   \n",
       "2022-03-06 14:23:33.893257     0.19025  2022      3    6        6    14   \n",
       "2022-03-03 09:11:59.104192     0.75600  2022      3    3        3     9   \n",
       "2022-03-06 00:13:01.290346     2.27100  2022      3    6        6     0   \n",
       "\n",
       "                             distance  \n",
       "start_time                             \n",
       "2022-03-06 15:02:39.329452  14.161756  \n",
       "2022-03-10 11:15:55.177526   2.043859  \n",
       "2022-03-06 14:23:33.893257   0.771782  \n",
       "2022-03-03 09:11:59.104192   3.033288  \n",
       "2022-03-06 00:13:01.290346   9.177383  "
      ]
     },
     "execution_count": 17,
     "metadata": {},
     "output_type": "execute_result"
    }
   ],
   "source": [
    "#create the distance column and add it to the main dataframe\n",
    "df['distance'] = dist_convert(df['start_lng'], df['start_lat'], df['end_lng'], df['end_lat'])\n",
    "df.head()"
   ]
  },
  {
   "cell_type": "code",
   "execution_count": 18,
   "id": "ad59cb22",
   "metadata": {},
   "outputs": [
    {
     "data": {
      "text/plain": [
       "622646"
      ]
     },
     "execution_count": 18,
     "metadata": {},
     "output_type": "execute_result"
    }
   ],
   "source": [
    "df.distance.value_counts().sum()"
   ]
  },
  {
   "cell_type": "code",
   "execution_count": 19,
   "id": "bb76e79f",
   "metadata": {},
   "outputs": [
    {
     "data": {
      "text/html": [
       "<div>\n",
       "<style scoped>\n",
       "    .dataframe tbody tr th:only-of-type {\n",
       "        vertical-align: middle;\n",
       "    }\n",
       "\n",
       "    .dataframe tbody tr th {\n",
       "        vertical-align: top;\n",
       "    }\n",
       "\n",
       "    .dataframe thead th {\n",
       "        text-align: right;\n",
       "    }\n",
       "</style>\n",
       "<table border=\"1\" class=\"dataframe\">\n",
       "  <thead>\n",
       "    <tr style=\"text-align: right;\">\n",
       "      <th></th>\n",
       "      <th>start_lat</th>\n",
       "      <th>start_lng</th>\n",
       "      <th>end_lat</th>\n",
       "      <th>end_lng</th>\n",
       "      <th>ride_value</th>\n",
       "      <th>year</th>\n",
       "      <th>month</th>\n",
       "      <th>day</th>\n",
       "      <th>weekday</th>\n",
       "      <th>hour</th>\n",
       "      <th>distance</th>\n",
       "    </tr>\n",
       "    <tr>\n",
       "      <th>start_time</th>\n",
       "      <th></th>\n",
       "      <th></th>\n",
       "      <th></th>\n",
       "      <th></th>\n",
       "      <th></th>\n",
       "      <th></th>\n",
       "      <th></th>\n",
       "      <th></th>\n",
       "      <th></th>\n",
       "      <th></th>\n",
       "      <th></th>\n",
       "    </tr>\n",
       "  </thead>\n",
       "  <tbody>\n",
       "    <tr>\n",
       "      <th>2022-03-06 15:02:39.329452</th>\n",
       "      <td>59.407910</td>\n",
       "      <td>24.689836</td>\n",
       "      <td>59.513027</td>\n",
       "      <td>24.831630</td>\n",
       "      <td>3.51825</td>\n",
       "      <td>2022</td>\n",
       "      <td>3</td>\n",
       "      <td>6</td>\n",
       "      <td>6</td>\n",
       "      <td>15</td>\n",
       "      <td>14.161756</td>\n",
       "    </tr>\n",
       "    <tr>\n",
       "      <th>2022-03-10 11:15:55.177526</th>\n",
       "      <td>59.441650</td>\n",
       "      <td>24.762712</td>\n",
       "      <td>59.426450</td>\n",
       "      <td>24.783076</td>\n",
       "      <td>0.50750</td>\n",
       "      <td>2022</td>\n",
       "      <td>3</td>\n",
       "      <td>10</td>\n",
       "      <td>3</td>\n",
       "      <td>11</td>\n",
       "      <td>2.043859</td>\n",
       "    </tr>\n",
       "    <tr>\n",
       "      <th>2022-03-06 14:23:33.893257</th>\n",
       "      <td>59.435404</td>\n",
       "      <td>24.749795</td>\n",
       "      <td>59.431901</td>\n",
       "      <td>24.761588</td>\n",
       "      <td>0.19025</td>\n",
       "      <td>2022</td>\n",
       "      <td>3</td>\n",
       "      <td>6</td>\n",
       "      <td>6</td>\n",
       "      <td>14</td>\n",
       "      <td>0.771782</td>\n",
       "    </tr>\n",
       "    <tr>\n",
       "      <th>2022-03-03 09:11:59.104192</th>\n",
       "      <td>59.406920</td>\n",
       "      <td>24.659006</td>\n",
       "      <td>59.381093</td>\n",
       "      <td>24.641652</td>\n",
       "      <td>0.75600</td>\n",
       "      <td>2022</td>\n",
       "      <td>3</td>\n",
       "      <td>3</td>\n",
       "      <td>3</td>\n",
       "      <td>9</td>\n",
       "      <td>3.033288</td>\n",
       "    </tr>\n",
       "    <tr>\n",
       "      <th>2022-03-06 00:13:01.290346</th>\n",
       "      <td>59.434940</td>\n",
       "      <td>24.753641</td>\n",
       "      <td>59.489203</td>\n",
       "      <td>24.876170</td>\n",
       "      <td>2.27100</td>\n",
       "      <td>2022</td>\n",
       "      <td>3</td>\n",
       "      <td>6</td>\n",
       "      <td>6</td>\n",
       "      <td>0</td>\n",
       "      <td>9.177383</td>\n",
       "    </tr>\n",
       "  </tbody>\n",
       "</table>\n",
       "</div>"
      ],
      "text/plain": [
       "                            start_lat  start_lng    end_lat    end_lng  \\\n",
       "start_time                                                               \n",
       "2022-03-06 15:02:39.329452  59.407910  24.689836  59.513027  24.831630   \n",
       "2022-03-10 11:15:55.177526  59.441650  24.762712  59.426450  24.783076   \n",
       "2022-03-06 14:23:33.893257  59.435404  24.749795  59.431901  24.761588   \n",
       "2022-03-03 09:11:59.104192  59.406920  24.659006  59.381093  24.641652   \n",
       "2022-03-06 00:13:01.290346  59.434940  24.753641  59.489203  24.876170   \n",
       "\n",
       "                            ride_value  year  month  day  weekday  hour  \\\n",
       "start_time                                                                \n",
       "2022-03-06 15:02:39.329452     3.51825  2022      3    6        6    15   \n",
       "2022-03-10 11:15:55.177526     0.50750  2022      3   10        3    11   \n",
       "2022-03-06 14:23:33.893257     0.19025  2022      3    6        6    14   \n",
       "2022-03-03 09:11:59.104192     0.75600  2022      3    3        3     9   \n",
       "2022-03-06 00:13:01.290346     2.27100  2022      3    6        6     0   \n",
       "\n",
       "                             distance  \n",
       "start_time                             \n",
       "2022-03-06 15:02:39.329452  14.161756  \n",
       "2022-03-10 11:15:55.177526   2.043859  \n",
       "2022-03-06 14:23:33.893257   0.771782  \n",
       "2022-03-03 09:11:59.104192   3.033288  \n",
       "2022-03-06 00:13:01.290346   9.177383  "
      ]
     },
     "execution_count": 19,
     "metadata": {},
     "output_type": "execute_result"
    }
   ],
   "source": [
    "#view change\n",
    "df.head()"
   ]
  },
  {
   "cell_type": "code",
   "execution_count": 20,
   "id": "2580bc67",
   "metadata": {},
   "outputs": [],
   "source": [
    "df_new = df.copy()"
   ]
  },
  {
   "cell_type": "markdown",
   "id": "e783f2a9",
   "metadata": {},
   "source": [
    "##  Visualizations"
   ]
  },
  {
   "cell_type": "markdown",
   "id": "5a1af6bc",
   "metadata": {},
   "source": [
    "#### Is there a correlation between ride value and distance?"
   ]
  },
  {
   "cell_type": "code",
   "execution_count": 21,
   "id": "1eb5fe6a",
   "metadata": {},
   "outputs": [
    {
     "data": {
      "image/png": "[encoded data removed]",
      "text/plain": [
       "<Figure size 864x576 with 1 Axes>"
      ]
     },
     "metadata": {
      "needs_background": "light"
     },
     "output_type": "display_data"
    }
   ],
   "source": [
    "#plot a scatter plot to find the correlation between ride value and distance\n",
    "plt.figure(figsize=(12,8))\n",
    "sns.set(style='whitegrid')\n",
    "sns.scatterplot(x='distance', y='ride_value', data=df_new)\n",
    "plt.xlabel('Ride Distance')\n",
    "plt.ylabel('Ride Value')\n",
    "plt.title('Relationship Between Ride value and Distance');"
   ]
  },
  {
   "cell_type": "markdown",
   "id": "f4c0c455",
   "metadata": {},
   "source": [
    "From the above plot, it shows there is a positive correlation between ride value and distance. Shorter distances bring low pay while longer distances bring higher pay.\n",
    "\n",
    "Next, using .corr(), determine the amount of positive between them"
   ]
  },
  {
   "cell_type": "code",
   "execution_count": 22,
   "id": "d8cdd04c",
   "metadata": {},
   "outputs": [
    {
     "data": {
      "text/html": [
       "<div>\n",
       "<style scoped>\n",
       "    .dataframe tbody tr th:only-of-type {\n",
       "        vertical-align: middle;\n",
       "    }\n",
       "\n",
       "    .dataframe tbody tr th {\n",
       "        vertical-align: top;\n",
       "    }\n",
       "\n",
       "    .dataframe thead th {\n",
       "        text-align: right;\n",
       "    }\n",
       "</style>\n",
       "<table border=\"1\" class=\"dataframe\">\n",
       "  <thead>\n",
       "    <tr style=\"text-align: right;\">\n",
       "      <th></th>\n",
       "      <th>ride_value</th>\n",
       "      <th>distance</th>\n",
       "    </tr>\n",
       "  </thead>\n",
       "  <tbody>\n",
       "    <tr>\n",
       "      <th>ride_value</th>\n",
       "      <td>1.000000</td>\n",
       "      <td>0.998841</td>\n",
       "    </tr>\n",
       "    <tr>\n",
       "      <th>distance</th>\n",
       "      <td>0.998841</td>\n",
       "      <td>1.000000</td>\n",
       "    </tr>\n",
       "  </tbody>\n",
       "</table>\n",
       "</div>"
      ],
      "text/plain": [
       "            ride_value  distance\n",
       "ride_value    1.000000  0.998841\n",
       "distance      0.998841  1.000000"
      ]
     },
     "execution_count": 22,
     "metadata": {},
     "output_type": "execute_result"
    }
   ],
   "source": [
    "df_new[['ride_value', 'distance']].corr()"
   ]
  },
  {
   "cell_type": "markdown",
   "id": "faa5668a",
   "metadata": {},
   "source": [
    "Both have a very high positive correlation of 0.99"
   ]
  },
  {
   "cell_type": "markdown",
   "id": "9d5b46e7",
   "metadata": {},
   "source": [
    "#### What days of the week have the highest demand for rides?\n",
    "\n",
    "The data gotten is for the month of March for the year 2022\n",
    "\n",
    "Next, analysis will be done to detect if specific days of the week have more requests for rides than others"
   ]
  },
  {
   "cell_type": "code",
   "execution_count": 23,
   "id": "6fde2b98",
   "metadata": {},
   "outputs": [
    {
     "data": {
      "text/plain": [
       "array([6, 3, 2, 4, 5, 0, 1], dtype=int64)"
      ]
     },
     "execution_count": 23,
     "metadata": {},
     "output_type": "execute_result"
    }
   ],
   "source": [
    "#first find out if the days of the week starts from monday(1) or Monday(0)\n",
    "df_new.weekday.unique()"
   ]
  },
  {
   "cell_type": "code",
   "execution_count": 24,
   "id": "8ce0e429",
   "metadata": {},
   "outputs": [
    {
     "data": {
      "image/png": "[encoded data removed]",
      "text/plain": [
       "<Figure size 864x576 with 1 Axes>"
      ]
     },
     "metadata": {},
     "output_type": "display_data"
    }
   ],
   "source": [
    "#plot using hist plot\n",
    "df_new.weekday.plot(kind='hist', figsize=(12, 8))\n",
    "plt.title('Distribution of Demand during the week')\n",
    "plt.xlabel('Days of the Week')\n",
    "plt.ylabel('Count');"
   ]
  },
  {
   "cell_type": "code",
   "execution_count": 25,
   "id": "765f35bf",
   "metadata": {},
   "outputs": [
    {
     "name": "stderr",
     "output_type": "stream",
     "text": [
      "C:\\Users\\Toyin Alade\\anaconda3\\lib\\site-packages\\seaborn\\distributions.py:2619: FutureWarning: `distplot` is a deprecated function and will be removed in a future version. Please adapt your code to use either `displot` (a figure-level function with similar flexibility) or `histplot` (an axes-level function for histograms).\n",
      "  warnings.warn(msg, FutureWarning)\n"
     ]
    },
    {
     "data": {
      "text/plain": [
       "<AxesSubplot:xlabel='weekday', ylabel='Density'>"
      ]
     },
     "execution_count": 25,
     "metadata": {},
     "output_type": "execute_result"
    },
    {
     "data": {
      "image/png": "[encoded data removed]",
      "text/plain": [
       "<Figure size 432x288 with 1 Axes>"
      ]
     },
     "metadata": {},
     "output_type": "display_data"
    }
   ],
   "source": [
    "sns.distplot(df_new[\"weekday\"])"
   ]
  },
  {
   "cell_type": "markdown",
   "id": "11bc501d",
   "metadata": {},
   "source": [
    "Weekday 5 has the highest count of demand, which is Saturday in the month of March, 2022.\n",
    "\n",
    "Next, the weekdays will be analysed by ranking to know the days with the highest demand in the month"
   ]
  },
  {
   "cell_type": "code",
   "execution_count": 26,
   "id": "3efc8b44",
   "metadata": {},
   "outputs": [
    {
     "data": {
      "text/plain": [
       "5    101610\n",
       "4     95506\n",
       "2     94640\n",
       "1     90616\n",
       "3     85618\n",
       "6     83610\n",
       "0     71046\n",
       "Name: weekday, dtype: int64"
      ]
     },
     "execution_count": 26,
     "metadata": {},
     "output_type": "execute_result"
    }
   ],
   "source": [
    "df_new.weekday.value_counts()"
   ]
  },
  {
   "cell_type": "markdown",
   "id": "393f1822",
   "metadata": {},
   "source": [
    "The next day of the week with a high demand after Saturday is Friday then Wednesday, with Monday having the least demand for rides in this month."
   ]
  },
  {
   "cell_type": "markdown",
   "id": "4e38ebd5",
   "metadata": {},
   "source": [
    "#### When was the longest ride and what was the route?"
   ]
  },
  {
   "cell_type": "code",
   "execution_count": 27,
   "id": "ee3e52a3",
   "metadata": {},
   "outputs": [
    {
     "data": {
      "text/plain": [
       "start_time\n",
       "2022-03-22 00:43:30.985685    15212.719885\n",
       "Name: distance, dtype: float64"
      ]
     },
     "execution_count": 27,
     "metadata": {},
     "output_type": "execute_result"
    }
   ],
   "source": [
    "#find the longest distance traveled\n",
    "df_new.distance.sort_values(ascending=False).head(1)"
   ]
  },
  {
   "cell_type": "code",
   "execution_count": 28,
   "id": "a3514855",
   "metadata": {},
   "outputs": [
    {
     "data": {
      "text/html": [
       "<div>\n",
       "<style scoped>\n",
       "    .dataframe tbody tr th:only-of-type {\n",
       "        vertical-align: middle;\n",
       "    }\n",
       "\n",
       "    .dataframe tbody tr th {\n",
       "        vertical-align: top;\n",
       "    }\n",
       "\n",
       "    .dataframe thead th {\n",
       "        text-align: right;\n",
       "    }\n",
       "</style>\n",
       "<table border=\"1\" class=\"dataframe\">\n",
       "  <thead>\n",
       "    <tr style=\"text-align: right;\">\n",
       "      <th></th>\n",
       "      <th>start_lat</th>\n",
       "      <th>start_lng</th>\n",
       "      <th>end_lat</th>\n",
       "      <th>end_lng</th>\n",
       "      <th>ride_value</th>\n",
       "      <th>year</th>\n",
       "      <th>month</th>\n",
       "      <th>day</th>\n",
       "      <th>weekday</th>\n",
       "      <th>hour</th>\n",
       "      <th>distance</th>\n",
       "    </tr>\n",
       "    <tr>\n",
       "      <th>start_time</th>\n",
       "      <th></th>\n",
       "      <th></th>\n",
       "      <th></th>\n",
       "      <th></th>\n",
       "      <th></th>\n",
       "      <th></th>\n",
       "      <th></th>\n",
       "      <th></th>\n",
       "      <th></th>\n",
       "      <th></th>\n",
       "      <th></th>\n",
       "    </tr>\n",
       "  </thead>\n",
       "  <tbody>\n",
       "    <tr>\n",
       "      <th>2022-03-22 00:43:30.985685</th>\n",
       "      <td>59.436629</td>\n",
       "      <td>24.751962</td>\n",
       "      <td>-37.819979</td>\n",
       "      <td>144.96611</td>\n",
       "      <td>3172.701</td>\n",
       "      <td>2022</td>\n",
       "      <td>3</td>\n",
       "      <td>22</td>\n",
       "      <td>1</td>\n",
       "      <td>0</td>\n",
       "      <td>15212.719885</td>\n",
       "    </tr>\n",
       "  </tbody>\n",
       "</table>\n",
       "</div>"
      ],
      "text/plain": [
       "                            start_lat  start_lng    end_lat    end_lng  \\\n",
       "start_time                                                               \n",
       "2022-03-22 00:43:30.985685  59.436629  24.751962 -37.819979  144.96611   \n",
       "\n",
       "                            ride_value  year  month  day  weekday  hour  \\\n",
       "start_time                                                                \n",
       "2022-03-22 00:43:30.985685    3172.701  2022      3   22        1     0   \n",
       "\n",
       "                                distance  \n",
       "start_time                                \n",
       "2022-03-22 00:43:30.985685  15212.719885  "
      ]
     },
     "execution_count": 28,
     "metadata": {},
     "output_type": "execute_result"
    }
   ],
   "source": [
    "long_ride = df_new.nlargest(1, 'distance')\n",
    "long_ride"
   ]
  },
  {
   "cell_type": "markdown",
   "id": "c25702b9",
   "metadata": {},
   "source": [
    "The longest ride was on the 22nd of March, 2022. The ride started at 12:43AM for 15212.7KM from 59.43lat, 24.75lng to -37.8lat, 166.96lng.\n",
    "\n",
    "This ride was also the highest paid ride with a ride value of 3,172.701 Euro\n"
   ]
  },
  {
   "cell_type": "markdown",
   "id": "7b37fad9",
   "metadata": {},
   "source": [
    "#### What locations had the most orders in the month of March in Tallinn\n",
    "\n",
    "Find the top five locations(where the rides started) that have the most orders"
   ]
  },
  {
   "cell_type": "code",
   "execution_count": 29,
   "id": "c98637f2",
   "metadata": {},
   "outputs": [],
   "source": [
    "#find the longitude and latitude with the highest demand \n",
    "start_loc = df_new[['start_lat', 'start_lng']]"
   ]
  },
  {
   "cell_type": "code",
   "execution_count": 30,
   "id": "9cc8627c",
   "metadata": {},
   "outputs": [
    {
     "data": {
      "text/plain": [
       "start_lat  start_lng\n",
       "59.436705  24.782963    11\n",
       "59.428552  24.765640    10\n",
       "59.446983  24.732131    10\n",
       "59.439357  24.761589    10\n",
       "59.430689  24.721561    10\n",
       "dtype: int64"
      ]
     },
     "execution_count": 30,
     "metadata": {},
     "output_type": "execute_result"
    }
   ],
   "source": [
    "#use value count to get the locations with the highest number of counts\n",
    "top_5 = start_loc.value_counts().head()\n",
    "top_5"
   ]
  },
  {
   "cell_type": "markdown",
   "id": "04855e51",
   "metadata": {},
   "source": [
    "These are the locations that had the highest demand for rides in march with 59.436705lat  24.782963long with the highest demand of 13 rides in March."
   ]
  },
  {
   "cell_type": "markdown",
   "id": "e7950ee4",
   "metadata": {},
   "source": [
    "#### What days in the month of March had the highest trip amounts"
   ]
  },
  {
   "cell_type": "code",
   "execution_count": 31,
   "id": "cccbbd93",
   "metadata": {},
   "outputs": [
    {
     "data": {
      "image/png": "[encoded data removed]",
      "text/plain": [
       "<Figure size 864x576 with 1 Axes>"
      ]
     },
     "metadata": {},
     "output_type": "display_data"
    }
   ],
   "source": [
    "days = df_new.day.value_counts()\n",
    "days.plot(kind='bar', figsize=(12,8))\n",
    "plt.xlabel('Days of the Month')\n",
    "plt.ylabel('Frequency')\n",
    "plt.title('Number of Trips in the month of March');"
   ]
  },
  {
   "cell_type": "code",
   "execution_count": 32,
   "id": "b9f7fdfe",
   "metadata": {},
   "outputs": [
    {
     "name": "stderr",
     "output_type": "stream",
     "text": [
      "C:\\Users\\Toyin Alade\\anaconda3\\lib\\site-packages\\seaborn\\distributions.py:2619: FutureWarning: `distplot` is a deprecated function and will be removed in a future version. Please adapt your code to use either `displot` (a figure-level function with similar flexibility) or `histplot` (an axes-level function for histograms).\n",
      "  warnings.warn(msg, FutureWarning)\n"
     ]
    },
    {
     "data": {
      "text/plain": [
       "<AxesSubplot:xlabel='day', ylabel='Density'>"
      ]
     },
     "execution_count": 32,
     "metadata": {},
     "output_type": "execute_result"
    },
    {
     "data": {
      "image/png": "[encoded data removed]",
      "text/plain": [
       "<Figure size 864x720 with 1 Axes>"
      ]
     },
     "metadata": {},
     "output_type": "display_data"
    }
   ],
   "source": [
    "sns.set(rc={'figure.figsize':(12, 10)})\n",
    "sns.distplot(df_new[\"day\"])"
   ]
  },
  {
   "cell_type": "markdown",
   "id": "78762cdf",
   "metadata": {},
   "source": [
    "There was a high demand of rides on the 26th of March with 19th, 25th and 23rd following"
   ]
  },
  {
   "cell_type": "markdown",
   "id": "0c3e1203",
   "metadata": {},
   "source": [
    "#### What time is the busiest?\n",
    "#### What time do people order rides the most?"
   ]
  },
  {
   "cell_type": "code",
   "execution_count": 33,
   "id": "0173b846",
   "metadata": {
    "scrolled": true
   },
   "outputs": [
    {
     "data": {
      "text/plain": [
       "16    38356\n",
       "15    36291\n",
       "14    34139\n",
       "7     33625\n",
       "22    32996\n",
       "21    31398\n",
       "17    30804\n",
       "13    30282\n",
       "6     30261\n",
       "20    29119\n",
       "18    27408\n",
       "8     27375\n",
       "19    26703\n",
       "12    26382\n",
       "23    25796\n",
       "9     24486\n",
       "11    23397\n",
       "10    22985\n",
       "5     20063\n",
       "0     19525\n",
       "1     15921\n",
       "2     13175\n",
       "4     11847\n",
       "3     10312\n",
       "Name: start_time, dtype: int64"
      ]
     },
     "execution_count": 33,
     "metadata": {},
     "output_type": "execute_result"
    }
   ],
   "source": [
    "#use the hour in the datetimeindex to get the busiest time of the day that orders are made\n",
    "df_new.index.hour.value_counts()"
   ]
  },
  {
   "cell_type": "markdown",
   "id": "e2975426",
   "metadata": {},
   "source": [
    "From the above result it is evident that the hour with the highest order time or time of demand is 4PM \n",
    "\n",
    "Top 5 hours with the highest demand\n",
    "4PM, 3PM, 2PM, 7AM and 10PM\n",
    "\n",
    "From this, it can be suggested that at 4PM there is a high demand for rides and more suggestion will be given later.\n",
    "\n",
    "Next, a bar plot will be used to visualize the top 5 high demand hours of the day in March, 2022"
   ]
  },
  {
   "cell_type": "code",
   "execution_count": 34,
   "id": "0c0ce1f8",
   "metadata": {
    "scrolled": true
   },
   "outputs": [
    {
     "data": {
      "image/png": "[encoded data removed]",
      "text/plain": [
       "<Figure size 864x576 with 1 Axes>"
      ]
     },
     "metadata": {},
     "output_type": "display_data"
    }
   ],
   "source": [
    "df_new.index.hour.value_counts(). head().plot(kind='bar', figsize=(12, 8));"
   ]
  },
  {
   "cell_type": "code",
   "execution_count": 35,
   "id": "1535223e",
   "metadata": {},
   "outputs": [
    {
     "name": "stderr",
     "output_type": "stream",
     "text": [
      "C:\\Users\\Toyin Alade\\anaconda3\\lib\\site-packages\\seaborn\\distributions.py:2619: FutureWarning: `distplot` is a deprecated function and will be removed in a future version. Please adapt your code to use either `displot` (a figure-level function with similar flexibility) or `histplot` (an axes-level function for histograms).\n",
      "  warnings.warn(msg, FutureWarning)\n"
     ]
    },
    {
     "data": {
      "text/plain": [
       "<AxesSubplot:xlabel='hour', ylabel='Density'>"
      ]
     },
     "execution_count": 35,
     "metadata": {},
     "output_type": "execute_result"
    },
    {
     "data": {
      "image/png": "[encoded data removed]",
      "text/plain": [
       "<Figure size 864x720 with 1 Axes>"
      ]
     },
     "metadata": {},
     "output_type": "display_data"
    }
   ],
   "source": [
    "sns.distplot(df_new[\"hour\"])"
   ]
  },
  {
   "cell_type": "markdown",
   "id": "66bbc843",
   "metadata": {},
   "source": [
    "#### What locations had these high demands at 4PM, 3PM and 2PM "
   ]
  },
  {
   "cell_type": "code",
   "execution_count": 36,
   "id": "06452dec",
   "metadata": {},
   "outputs": [
    {
     "data": {
      "text/html": [
       "<div>\n",
       "<style scoped>\n",
       "    .dataframe tbody tr th:only-of-type {\n",
       "        vertical-align: middle;\n",
       "    }\n",
       "\n",
       "    .dataframe tbody tr th {\n",
       "        vertical-align: top;\n",
       "    }\n",
       "\n",
       "    .dataframe thead th {\n",
       "        text-align: right;\n",
       "    }\n",
       "</style>\n",
       "<table border=\"1\" class=\"dataframe\">\n",
       "  <thead>\n",
       "    <tr style=\"text-align: right;\">\n",
       "      <th></th>\n",
       "      <th>start_lat</th>\n",
       "      <th>start_lng</th>\n",
       "    </tr>\n",
       "    <tr>\n",
       "      <th>start_time</th>\n",
       "      <th></th>\n",
       "      <th></th>\n",
       "    </tr>\n",
       "  </thead>\n",
       "  <tbody>\n",
       "    <tr>\n",
       "      <th>2022-03-17 16:20:20.028387</th>\n",
       "      <td>59.410783</td>\n",
       "      <td>24.721219</td>\n",
       "    </tr>\n",
       "    <tr>\n",
       "      <th>2022-03-21 16:07:28.519745</th>\n",
       "      <td>59.444390</td>\n",
       "      <td>24.742565</td>\n",
       "    </tr>\n",
       "    <tr>\n",
       "      <th>2022-03-08 16:30:59.582078</th>\n",
       "      <td>59.443281</td>\n",
       "      <td>24.733840</td>\n",
       "    </tr>\n",
       "    <tr>\n",
       "      <th>2022-03-28 16:00:32.111964</th>\n",
       "      <td>59.437785</td>\n",
       "      <td>24.745797</td>\n",
       "    </tr>\n",
       "    <tr>\n",
       "      <th>2022-03-04 16:36:00.165324</th>\n",
       "      <td>59.404348</td>\n",
       "      <td>24.731202</td>\n",
       "    </tr>\n",
       "    <tr>\n",
       "      <th>2022-03-04 16:35:21.226865</th>\n",
       "      <td>59.414473</td>\n",
       "      <td>24.816553</td>\n",
       "    </tr>\n",
       "    <tr>\n",
       "      <th>2022-03-27 16:43:30.304254</th>\n",
       "      <td>59.405625</td>\n",
       "      <td>24.660659</td>\n",
       "    </tr>\n",
       "    <tr>\n",
       "      <th>2022-03-04 16:17:03.533061</th>\n",
       "      <td>59.437875</td>\n",
       "      <td>24.743284</td>\n",
       "    </tr>\n",
       "    <tr>\n",
       "      <th>2022-03-06 16:29:27.735240</th>\n",
       "      <td>59.444928</td>\n",
       "      <td>24.580780</td>\n",
       "    </tr>\n",
       "    <tr>\n",
       "      <th>2022-03-13 16:36:34.163950</th>\n",
       "      <td>59.406081</td>\n",
       "      <td>24.681466</td>\n",
       "    </tr>\n",
       "  </tbody>\n",
       "</table>\n",
       "</div>"
      ],
      "text/plain": [
       "                            start_lat  start_lng\n",
       "start_time                                      \n",
       "2022-03-17 16:20:20.028387  59.410783  24.721219\n",
       "2022-03-21 16:07:28.519745  59.444390  24.742565\n",
       "2022-03-08 16:30:59.582078  59.443281  24.733840\n",
       "2022-03-28 16:00:32.111964  59.437785  24.745797\n",
       "2022-03-04 16:36:00.165324  59.404348  24.731202\n",
       "2022-03-04 16:35:21.226865  59.414473  24.816553\n",
       "2022-03-27 16:43:30.304254  59.405625  24.660659\n",
       "2022-03-04 16:17:03.533061  59.437875  24.743284\n",
       "2022-03-06 16:29:27.735240  59.444928  24.580780\n",
       "2022-03-13 16:36:34.163950  59.406081  24.681466"
      ]
     },
     "execution_count": 36,
     "metadata": {},
     "output_type": "execute_result"
    }
   ],
   "source": [
    "#locations with the highest demand\n",
    "first_hd = df_new[df_new.index.hour == 16]\n",
    "\n",
    "#filter for the top 10 locations with high demand at 4PM\n",
    "top_10_loc4 = first_hd[['start_lat', 'start_lng']].head(10)\n",
    "top_10_loc4"
   ]
  },
  {
   "cell_type": "markdown",
   "id": "842a9f71",
   "metadata": {},
   "source": [
    "##### Location at 3PM"
   ]
  },
  {
   "cell_type": "code",
   "execution_count": 37,
   "id": "e7994761",
   "metadata": {},
   "outputs": [
    {
     "data": {
      "text/html": [
       "<div>\n",
       "<style scoped>\n",
       "    .dataframe tbody tr th:only-of-type {\n",
       "        vertical-align: middle;\n",
       "    }\n",
       "\n",
       "    .dataframe tbody tr th {\n",
       "        vertical-align: top;\n",
       "    }\n",
       "\n",
       "    .dataframe thead th {\n",
       "        text-align: right;\n",
       "    }\n",
       "</style>\n",
       "<table border=\"1\" class=\"dataframe\">\n",
       "  <thead>\n",
       "    <tr style=\"text-align: right;\">\n",
       "      <th></th>\n",
       "      <th>start_lat</th>\n",
       "      <th>start_lng</th>\n",
       "    </tr>\n",
       "    <tr>\n",
       "      <th>start_time</th>\n",
       "      <th></th>\n",
       "      <th></th>\n",
       "    </tr>\n",
       "  </thead>\n",
       "  <tbody>\n",
       "    <tr>\n",
       "      <th>2022-03-06 15:02:39.329452</th>\n",
       "      <td>59.407910</td>\n",
       "      <td>24.689836</td>\n",
       "    </tr>\n",
       "    <tr>\n",
       "      <th>2022-03-21 15:07:27.953983</th>\n",
       "      <td>59.380472</td>\n",
       "      <td>24.629802</td>\n",
       "    </tr>\n",
       "    <tr>\n",
       "      <th>2022-03-27 15:15:35.916686</th>\n",
       "      <td>59.421678</td>\n",
       "      <td>24.791646</td>\n",
       "    </tr>\n",
       "    <tr>\n",
       "      <th>2022-03-02 15:00:45.350774</th>\n",
       "      <td>59.396511</td>\n",
       "      <td>24.669324</td>\n",
       "    </tr>\n",
       "    <tr>\n",
       "      <th>2022-03-14 15:47:18.248769</th>\n",
       "      <td>59.429136</td>\n",
       "      <td>24.740953</td>\n",
       "    </tr>\n",
       "    <tr>\n",
       "      <th>2022-03-07 15:19:17.755124</th>\n",
       "      <td>59.431065</td>\n",
       "      <td>24.757161</td>\n",
       "    </tr>\n",
       "    <tr>\n",
       "      <th>2022-03-22 15:06:53.978190</th>\n",
       "      <td>59.433616</td>\n",
       "      <td>24.721355</td>\n",
       "    </tr>\n",
       "    <tr>\n",
       "      <th>2022-03-12 15:00:24.552000</th>\n",
       "      <td>59.425967</td>\n",
       "      <td>24.702978</td>\n",
       "    </tr>\n",
       "    <tr>\n",
       "      <th>2022-03-23 15:42:51.398052</th>\n",
       "      <td>59.480313</td>\n",
       "      <td>24.850347</td>\n",
       "    </tr>\n",
       "    <tr>\n",
       "      <th>2022-03-23 15:28:28.959344</th>\n",
       "      <td>59.399489</td>\n",
       "      <td>24.807045</td>\n",
       "    </tr>\n",
       "  </tbody>\n",
       "</table>\n",
       "</div>"
      ],
      "text/plain": [
       "                            start_lat  start_lng\n",
       "start_time                                      \n",
       "2022-03-06 15:02:39.329452  59.407910  24.689836\n",
       "2022-03-21 15:07:27.953983  59.380472  24.629802\n",
       "2022-03-27 15:15:35.916686  59.421678  24.791646\n",
       "2022-03-02 15:00:45.350774  59.396511  24.669324\n",
       "2022-03-14 15:47:18.248769  59.429136  24.740953\n",
       "2022-03-07 15:19:17.755124  59.431065  24.757161\n",
       "2022-03-22 15:06:53.978190  59.433616  24.721355\n",
       "2022-03-12 15:00:24.552000  59.425967  24.702978\n",
       "2022-03-23 15:42:51.398052  59.480313  24.850347\n",
       "2022-03-23 15:28:28.959344  59.399489  24.807045"
      ]
     },
     "execution_count": 37,
     "metadata": {},
     "output_type": "execute_result"
    }
   ],
   "source": [
    "#locations with the highest demand\n",
    "second_hd = df_new[df_new.index.hour == 15]\n",
    "\n",
    "#filter for the top 10 locations with high demand at 4PM\n",
    "top_10_loc3 = second_hd[['start_lat', 'start_lng']].head(10)\n",
    "top_10_loc3"
   ]
  },
  {
   "cell_type": "code",
   "execution_count": 38,
   "id": "eb24fe6e",
   "metadata": {},
   "outputs": [
    {
     "data": {
      "text/html": [
       "<div>\n",
       "<style scoped>\n",
       "    .dataframe tbody tr th:only-of-type {\n",
       "        vertical-align: middle;\n",
       "    }\n",
       "\n",
       "    .dataframe tbody tr th {\n",
       "        vertical-align: top;\n",
       "    }\n",
       "\n",
       "    .dataframe thead th {\n",
       "        text-align: right;\n",
       "    }\n",
       "</style>\n",
       "<table border=\"1\" class=\"dataframe\">\n",
       "  <thead>\n",
       "    <tr style=\"text-align: right;\">\n",
       "      <th></th>\n",
       "      <th>start_lat</th>\n",
       "      <th>start_lng</th>\n",
       "    </tr>\n",
       "    <tr>\n",
       "      <th>start_time</th>\n",
       "      <th></th>\n",
       "      <th></th>\n",
       "    </tr>\n",
       "  </thead>\n",
       "  <tbody>\n",
       "    <tr>\n",
       "      <th>2022-03-06 14:23:33.893257</th>\n",
       "      <td>59.435404</td>\n",
       "      <td>24.749795</td>\n",
       "    </tr>\n",
       "    <tr>\n",
       "      <th>2022-03-18 14:34:56.333676</th>\n",
       "      <td>59.416808</td>\n",
       "      <td>24.799002</td>\n",
       "    </tr>\n",
       "    <tr>\n",
       "      <th>2022-03-18 14:55:55.179753</th>\n",
       "      <td>59.429649</td>\n",
       "      <td>24.749386</td>\n",
       "    </tr>\n",
       "    <tr>\n",
       "      <th>2022-03-21 14:59:10.209000</th>\n",
       "      <td>59.422318</td>\n",
       "      <td>24.801615</td>\n",
       "    </tr>\n",
       "    <tr>\n",
       "      <th>2022-03-12 14:46:15.752749</th>\n",
       "      <td>59.433539</td>\n",
       "      <td>24.753116</td>\n",
       "    </tr>\n",
       "    <tr>\n",
       "      <th>2022-03-02 14:46:13.159422</th>\n",
       "      <td>59.431161</td>\n",
       "      <td>24.760291</td>\n",
       "    </tr>\n",
       "    <tr>\n",
       "      <th>2022-03-21 14:49:20.575000</th>\n",
       "      <td>59.389723</td>\n",
       "      <td>24.687836</td>\n",
       "    </tr>\n",
       "    <tr>\n",
       "      <th>2022-03-12 14:11:41.551000</th>\n",
       "      <td>59.436310</td>\n",
       "      <td>24.777791</td>\n",
       "    </tr>\n",
       "    <tr>\n",
       "      <th>2022-03-28 14:29:24.247406</th>\n",
       "      <td>59.420749</td>\n",
       "      <td>24.813656</td>\n",
       "    </tr>\n",
       "    <tr>\n",
       "      <th>2022-03-01 14:32:33.133713</th>\n",
       "      <td>59.435576</td>\n",
       "      <td>24.751063</td>\n",
       "    </tr>\n",
       "  </tbody>\n",
       "</table>\n",
       "</div>"
      ],
      "text/plain": [
       "                            start_lat  start_lng\n",
       "start_time                                      \n",
       "2022-03-06 14:23:33.893257  59.435404  24.749795\n",
       "2022-03-18 14:34:56.333676  59.416808  24.799002\n",
       "2022-03-18 14:55:55.179753  59.429649  24.749386\n",
       "2022-03-21 14:59:10.209000  59.422318  24.801615\n",
       "2022-03-12 14:46:15.752749  59.433539  24.753116\n",
       "2022-03-02 14:46:13.159422  59.431161  24.760291\n",
       "2022-03-21 14:49:20.575000  59.389723  24.687836\n",
       "2022-03-12 14:11:41.551000  59.436310  24.777791\n",
       "2022-03-28 14:29:24.247406  59.420749  24.813656\n",
       "2022-03-01 14:32:33.133713  59.435576  24.751063"
      ]
     },
     "execution_count": 38,
     "metadata": {},
     "output_type": "execute_result"
    }
   ],
   "source": [
    "#locations with the highest demand\n",
    "third_hd = df_new[df_new.index.hour == 14]\n",
    "\n",
    "#filter for the top 10 locations with high demand at 4PM\n",
    "top_10_loc2 = third_hd[['start_lat', 'start_lng']].head(10)\n",
    "top_10_loc2"
   ]
  },
  {
   "cell_type": "markdown",
   "id": "cac37421",
   "metadata": {},
   "source": [
    "## Brief Summary\n",
    "\n",
    "From the above analysis, it is safe to say that most trips or rides were made on Saturdays, having the 26th of March as the day with the highest amount of rides done. Most rides had high demands at 4PM, so demand was really high by 4PM. Other high demand times were 2PM and 3PM. The time in the morning that had a high morning hour rush was 7AM, this could be due to the rush to resume work on time or meet up with early morning appointments, so people tend to order for rides by 7AM.\n",
    "\n",
    "4PM can be assumed to be the rush hour as people tend to wrap up activities for the day, hence the high demand for rides. 2PM and 3PM also have high demands but not as high as 4PM, why? It could be because some people might want to reach places before the rush hour or it is just a time before the rush hour so there is a build up of activities among people.\n",
    "\n",
    "Above is a list of locations that have shown to experience high demand by 4PM, 3PM and 2PM.\n",
    "\n",
    "Riders should focus on these areas because through this analysis, it has been shown that they will improve demand and supply of rides. More riders should be situated in these areas at times when there is a high demand, like Saturdays by 4PM, riders should be around ........... to get customers faster."
   ]
  },
  {
   "cell_type": "markdown",
   "id": "2c85478f",
   "metadata": {},
   "source": [
    "Next, a model will be built to forcast the above claim"
   ]
  },
  {
   "cell_type": "markdown",
   "id": "b09671c3",
   "metadata": {},
   "source": [
    "## Building the model"
   ]
  },
  {
   "cell_type": "code",
   "execution_count": 39,
   "id": "e268d04a",
   "metadata": {},
   "outputs": [
    {
     "data": {
      "text/plain": [
       "start_lat     float64\n",
       "start_lng     float64\n",
       "end_lat       float64\n",
       "end_lng       float64\n",
       "ride_value    float64\n",
       "year            int64\n",
       "month           int64\n",
       "day             int64\n",
       "weekday         int64\n",
       "hour            int64\n",
       "distance      float64\n",
       "dtype: object"
      ]
     },
     "execution_count": 39,
     "metadata": {},
     "output_type": "execute_result"
    }
   ],
   "source": [
    "df_new.dtypes"
   ]
  },
  {
   "cell_type": "code",
   "execution_count": 40,
   "id": "caf80662",
   "metadata": {},
   "outputs": [
    {
     "data": {
      "text/plain": [
       "(622646, 11)"
      ]
     },
     "execution_count": 40,
     "metadata": {},
     "output_type": "execute_result"
    }
   ],
   "source": [
    "df_new.shape"
   ]
  },
  {
   "cell_type": "code",
   "execution_count": 41,
   "id": "d2561973",
   "metadata": {},
   "outputs": [],
   "source": [
    "X = df_new.drop(['year', 'month'], axis=1)\n",
    "y = df_new['hour']"
   ]
  }
 ],
 "metadata": {
  "kernelspec": {
   "display_name": "Python 3 (ipykernel)",
   "language": "python",
   "name": "python3"
  },
  "language_info": {
   "codemirror_mode": {
    "name": "ipython",
    "version": 3
   },
   "file_extension": ".py",
   "mimetype": "text/x-python",
   "name": "python",
   "nbconvert_exporter": "python",
   "pygments_lexer": "ipython3",
   "version": "3.9.12"
  }
 },
 "nbformat": 4,
 "nbformat_minor": 5
}
